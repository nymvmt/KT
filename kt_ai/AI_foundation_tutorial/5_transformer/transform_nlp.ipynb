{
  "cells": [
    {
      "cell_type": "code",
      "execution_count": 1,
      "metadata": {
        "colab": {
          "base_uri": "https://localhost:8080/"
        },
        "id": "oaTU23Ucufii",
        "outputId": "7de3a9f9-3629-4ddf-cafc-21cb2b7078b6"
      },
      "outputs": [
        {
          "output_type": "stream",
          "name": "stdout",
          "text": [
            "Requirement already satisfied: torch==2.1.0 in /usr/local/lib/python3.11/dist-packages (2.1.0)\n",
            "Requirement already satisfied: torchtext==0.16.0 in /usr/local/lib/python3.11/dist-packages (0.16.0)\n",
            "Requirement already satisfied: transformers in /usr/local/lib/python3.11/dist-packages (4.53.2)\n",
            "Requirement already satisfied: datasets in /usr/local/lib/python3.11/dist-packages (2.14.4)\n",
            "Requirement already satisfied: portalocker in /usr/local/lib/python3.11/dist-packages (3.2.0)\n",
            "Requirement already satisfied: torchvision in /usr/local/lib/python3.11/dist-packages (0.16.0)\n",
            "Requirement already satisfied: numpy<2.0,>=1.21 in /usr/local/lib/python3.11/dist-packages (1.26.4)\n",
            "Requirement already satisfied: spacy in /usr/local/lib/python3.11/dist-packages (3.8.7)\n",
            "Requirement already satisfied: filelock in /usr/local/lib/python3.11/dist-packages (from torch==2.1.0) (3.18.0)\n",
            "Requirement already satisfied: typing-extensions in /usr/local/lib/python3.11/dist-packages (from torch==2.1.0) (4.14.1)\n",
            "Requirement already satisfied: sympy in /usr/local/lib/python3.11/dist-packages (from torch==2.1.0) (1.13.1)\n",
            "Requirement already satisfied: networkx in /usr/local/lib/python3.11/dist-packages (from torch==2.1.0) (3.5)\n",
            "Requirement already satisfied: jinja2 in /usr/local/lib/python3.11/dist-packages (from torch==2.1.0) (3.1.6)\n",
            "Requirement already satisfied: fsspec in /usr/local/lib/python3.11/dist-packages (from torch==2.1.0) (2025.7.0)\n",
            "Requirement already satisfied: nvidia-cuda-nvrtc-cu12==12.1.105 in /usr/local/lib/python3.11/dist-packages (from torch==2.1.0) (12.1.105)\n",
            "Requirement already satisfied: nvidia-cuda-runtime-cu12==12.1.105 in /usr/local/lib/python3.11/dist-packages (from torch==2.1.0) (12.1.105)\n",
            "Requirement already satisfied: nvidia-cuda-cupti-cu12==12.1.105 in /usr/local/lib/python3.11/dist-packages (from torch==2.1.0) (12.1.105)\n",
            "Requirement already satisfied: nvidia-cudnn-cu12==8.9.2.26 in /usr/local/lib/python3.11/dist-packages (from torch==2.1.0) (8.9.2.26)\n",
            "Requirement already satisfied: nvidia-cublas-cu12==12.1.3.1 in /usr/local/lib/python3.11/dist-packages (from torch==2.1.0) (12.1.3.1)\n",
            "Requirement already satisfied: nvidia-cufft-cu12==11.0.2.54 in /usr/local/lib/python3.11/dist-packages (from torch==2.1.0) (11.0.2.54)\n",
            "Requirement already satisfied: nvidia-curand-cu12==10.3.2.106 in /usr/local/lib/python3.11/dist-packages (from torch==2.1.0) (10.3.2.106)\n",
            "Requirement already satisfied: nvidia-cusolver-cu12==11.4.5.107 in /usr/local/lib/python3.11/dist-packages (from torch==2.1.0) (11.4.5.107)\n",
            "Requirement already satisfied: nvidia-cusparse-cu12==12.1.0.106 in /usr/local/lib/python3.11/dist-packages (from torch==2.1.0) (12.1.0.106)\n",
            "Requirement already satisfied: nvidia-nccl-cu12==2.18.1 in /usr/local/lib/python3.11/dist-packages (from torch==2.1.0) (2.18.1)\n",
            "Requirement already satisfied: nvidia-nvtx-cu12==12.1.105 in /usr/local/lib/python3.11/dist-packages (from torch==2.1.0) (12.1.105)\n",
            "Requirement already satisfied: triton==2.1.0 in /usr/local/lib/python3.11/dist-packages (from torch==2.1.0) (2.1.0)\n",
            "Requirement already satisfied: tqdm in /usr/local/lib/python3.11/dist-packages (from torchtext==0.16.0) (4.67.1)\n",
            "Requirement already satisfied: requests in /usr/local/lib/python3.11/dist-packages (from torchtext==0.16.0) (2.32.3)\n",
            "Requirement already satisfied: torchdata==0.7.0 in /usr/local/lib/python3.11/dist-packages (from torchtext==0.16.0) (0.7.0)\n",
            "Requirement already satisfied: nvidia-nvjitlink-cu12 in /usr/local/lib/python3.11/dist-packages (from nvidia-cusolver-cu12==11.4.5.107->torch==2.1.0) (12.5.82)\n",
            "Requirement already satisfied: urllib3>=1.25 in /usr/local/lib/python3.11/dist-packages (from torchdata==0.7.0->torchtext==0.16.0) (2.5.0)\n",
            "Requirement already satisfied: huggingface-hub<1.0,>=0.30.0 in /usr/local/lib/python3.11/dist-packages (from transformers) (0.33.4)\n",
            "Requirement already satisfied: packaging>=20.0 in /usr/local/lib/python3.11/dist-packages (from transformers) (25.0)\n",
            "Requirement already satisfied: pyyaml>=5.1 in /usr/local/lib/python3.11/dist-packages (from transformers) (6.0.2)\n",
            "Requirement already satisfied: regex!=2019.12.17 in /usr/local/lib/python3.11/dist-packages (from transformers) (2024.11.6)\n",
            "Requirement already satisfied: tokenizers<0.22,>=0.21 in /usr/local/lib/python3.11/dist-packages (from transformers) (0.21.2)\n",
            "Requirement already satisfied: safetensors>=0.4.3 in /usr/local/lib/python3.11/dist-packages (from transformers) (0.5.3)\n",
            "Requirement already satisfied: pyarrow>=8.0.0 in /usr/local/lib/python3.11/dist-packages (from datasets) (18.1.0)\n",
            "Requirement already satisfied: dill<0.3.8,>=0.3.0 in /usr/local/lib/python3.11/dist-packages (from datasets) (0.3.7)\n",
            "Requirement already satisfied: pandas in /usr/local/lib/python3.11/dist-packages (from datasets) (2.2.2)\n",
            "Requirement already satisfied: xxhash in /usr/local/lib/python3.11/dist-packages (from datasets) (3.5.0)\n",
            "Requirement already satisfied: multiprocess in /usr/local/lib/python3.11/dist-packages (from datasets) (0.70.15)\n",
            "Requirement already satisfied: aiohttp in /usr/local/lib/python3.11/dist-packages (from datasets) (3.11.15)\n",
            "Requirement already satisfied: pillow!=8.3.*,>=5.3.0 in /usr/local/lib/python3.11/dist-packages (from torchvision) (11.3.0)\n",
            "Requirement already satisfied: spacy-legacy<3.1.0,>=3.0.11 in /usr/local/lib/python3.11/dist-packages (from spacy) (3.0.12)\n",
            "Requirement already satisfied: spacy-loggers<2.0.0,>=1.0.0 in /usr/local/lib/python3.11/dist-packages (from spacy) (1.0.5)\n",
            "Requirement already satisfied: murmurhash<1.1.0,>=0.28.0 in /usr/local/lib/python3.11/dist-packages (from spacy) (1.0.13)\n",
            "Requirement already satisfied: cymem<2.1.0,>=2.0.2 in /usr/local/lib/python3.11/dist-packages (from spacy) (2.0.11)\n",
            "Requirement already satisfied: preshed<3.1.0,>=3.0.2 in /usr/local/lib/python3.11/dist-packages (from spacy) (3.0.10)\n",
            "Requirement already satisfied: thinc<8.4.0,>=8.3.4 in /usr/local/lib/python3.11/dist-packages (from spacy) (8.3.4)\n",
            "Requirement already satisfied: wasabi<1.2.0,>=0.9.1 in /usr/local/lib/python3.11/dist-packages (from spacy) (1.1.3)\n",
            "Requirement already satisfied: srsly<3.0.0,>=2.4.3 in /usr/local/lib/python3.11/dist-packages (from spacy) (2.5.1)\n",
            "Requirement already satisfied: catalogue<2.1.0,>=2.0.6 in /usr/local/lib/python3.11/dist-packages (from spacy) (2.0.10)\n",
            "Requirement already satisfied: weasel<0.5.0,>=0.1.0 in /usr/local/lib/python3.11/dist-packages (from spacy) (0.4.1)\n",
            "Requirement already satisfied: typer<1.0.0,>=0.3.0 in /usr/local/lib/python3.11/dist-packages (from spacy) (0.16.0)\n",
            "Requirement already satisfied: pydantic!=1.8,!=1.8.1,<3.0.0,>=1.7.4 in /usr/local/lib/python3.11/dist-packages (from spacy) (2.11.7)\n",
            "Requirement already satisfied: setuptools in /usr/local/lib/python3.11/dist-packages (from spacy) (75.2.0)\n",
            "Requirement already satisfied: langcodes<4.0.0,>=3.2.0 in /usr/local/lib/python3.11/dist-packages (from spacy) (3.5.0)\n",
            "Requirement already satisfied: aiohappyeyeballs>=2.3.0 in /usr/local/lib/python3.11/dist-packages (from aiohttp->datasets) (2.6.1)\n",
            "Requirement already satisfied: aiosignal>=1.1.2 in /usr/local/lib/python3.11/dist-packages (from aiohttp->datasets) (1.4.0)\n",
            "Requirement already satisfied: attrs>=17.3.0 in /usr/local/lib/python3.11/dist-packages (from aiohttp->datasets) (25.3.0)\n",
            "Requirement already satisfied: frozenlist>=1.1.1 in /usr/local/lib/python3.11/dist-packages (from aiohttp->datasets) (1.7.0)\n",
            "Requirement already satisfied: multidict<7.0,>=4.5 in /usr/local/lib/python3.11/dist-packages (from aiohttp->datasets) (6.6.3)\n",
            "Requirement already satisfied: propcache>=0.2.0 in /usr/local/lib/python3.11/dist-packages (from aiohttp->datasets) (0.3.2)\n",
            "Requirement already satisfied: yarl<2.0,>=1.17.0 in /usr/local/lib/python3.11/dist-packages (from aiohttp->datasets) (1.20.1)\n",
            "Requirement already satisfied: hf-xet<2.0.0,>=1.1.2 in /usr/local/lib/python3.11/dist-packages (from huggingface-hub<1.0,>=0.30.0->transformers) (1.1.5)\n",
            "Requirement already satisfied: language-data>=1.2 in /usr/local/lib/python3.11/dist-packages (from langcodes<4.0.0,>=3.2.0->spacy) (1.3.0)\n",
            "Requirement already satisfied: annotated-types>=0.6.0 in /usr/local/lib/python3.11/dist-packages (from pydantic!=1.8,!=1.8.1,<3.0.0,>=1.7.4->spacy) (0.7.0)\n",
            "Requirement already satisfied: pydantic-core==2.33.2 in /usr/local/lib/python3.11/dist-packages (from pydantic!=1.8,!=1.8.1,<3.0.0,>=1.7.4->spacy) (2.33.2)\n",
            "Requirement already satisfied: typing-inspection>=0.4.0 in /usr/local/lib/python3.11/dist-packages (from pydantic!=1.8,!=1.8.1,<3.0.0,>=1.7.4->spacy) (0.4.1)\n",
            "Requirement already satisfied: charset-normalizer<4,>=2 in /usr/local/lib/python3.11/dist-packages (from requests->torchtext==0.16.0) (3.4.2)\n",
            "Requirement already satisfied: idna<4,>=2.5 in /usr/local/lib/python3.11/dist-packages (from requests->torchtext==0.16.0) (3.10)\n",
            "Requirement already satisfied: certifi>=2017.4.17 in /usr/local/lib/python3.11/dist-packages (from requests->torchtext==0.16.0) (2025.7.14)\n",
            "Requirement already satisfied: blis<1.3.0,>=1.2.0 in /usr/local/lib/python3.11/dist-packages (from thinc<8.4.0,>=8.3.4->spacy) (1.2.1)\n",
            "Requirement already satisfied: confection<1.0.0,>=0.0.1 in /usr/local/lib/python3.11/dist-packages (from thinc<8.4.0,>=8.3.4->spacy) (0.1.5)\n",
            "Requirement already satisfied: click>=8.0.0 in /usr/local/lib/python3.11/dist-packages (from typer<1.0.0,>=0.3.0->spacy) (8.2.1)\n",
            "Requirement already satisfied: shellingham>=1.3.0 in /usr/local/lib/python3.11/dist-packages (from typer<1.0.0,>=0.3.0->spacy) (1.5.4)\n",
            "Requirement already satisfied: rich>=10.11.0 in /usr/local/lib/python3.11/dist-packages (from typer<1.0.0,>=0.3.0->spacy) (13.9.4)\n",
            "Requirement already satisfied: cloudpathlib<1.0.0,>=0.7.0 in /usr/local/lib/python3.11/dist-packages (from weasel<0.5.0,>=0.1.0->spacy) (0.21.1)\n",
            "Requirement already satisfied: smart-open<8.0.0,>=5.2.1 in /usr/local/lib/python3.11/dist-packages (from weasel<0.5.0,>=0.1.0->spacy) (7.3.0.post1)\n",
            "Requirement already satisfied: MarkupSafe>=2.0 in /usr/local/lib/python3.11/dist-packages (from jinja2->torch==2.1.0) (3.0.2)\n",
            "Requirement already satisfied: python-dateutil>=2.8.2 in /usr/local/lib/python3.11/dist-packages (from pandas->datasets) (2.9.0.post0)\n",
            "Requirement already satisfied: pytz>=2020.1 in /usr/local/lib/python3.11/dist-packages (from pandas->datasets) (2025.2)\n",
            "Requirement already satisfied: tzdata>=2022.7 in /usr/local/lib/python3.11/dist-packages (from pandas->datasets) (2025.2)\n",
            "Requirement already satisfied: mpmath<1.4,>=1.1.0 in /usr/local/lib/python3.11/dist-packages (from sympy->torch==2.1.0) (1.3.0)\n",
            "Requirement already satisfied: marisa-trie>=1.1.0 in /usr/local/lib/python3.11/dist-packages (from language-data>=1.2->langcodes<4.0.0,>=3.2.0->spacy) (1.2.1)\n",
            "Requirement already satisfied: six>=1.5 in /usr/local/lib/python3.11/dist-packages (from python-dateutil>=2.8.2->pandas->datasets) (1.17.0)\n",
            "Requirement already satisfied: markdown-it-py>=2.2.0 in /usr/local/lib/python3.11/dist-packages (from rich>=10.11.0->typer<1.0.0,>=0.3.0->spacy) (3.0.0)\n",
            "Requirement already satisfied: pygments<3.0.0,>=2.13.0 in /usr/local/lib/python3.11/dist-packages (from rich>=10.11.0->typer<1.0.0,>=0.3.0->spacy) (2.19.2)\n",
            "Requirement already satisfied: wrapt in /usr/local/lib/python3.11/dist-packages (from smart-open<8.0.0,>=5.2.1->weasel<0.5.0,>=0.1.0->spacy) (1.17.2)\n",
            "Requirement already satisfied: mdurl~=0.1 in /usr/local/lib/python3.11/dist-packages (from markdown-it-py>=2.2.0->rich>=10.11.0->typer<1.0.0,>=0.3.0->spacy) (0.1.2)\n",
            "Collecting de-core-news-sm==3.8.0\n",
            "  Using cached https://github.com/explosion/spacy-models/releases/download/de_core_news_sm-3.8.0/de_core_news_sm-3.8.0-py3-none-any.whl (14.6 MB)\n",
            "\u001b[38;5;2m✔ Download and installation successful\u001b[0m\n",
            "You can now load the package via spacy.load('de_core_news_sm')\n",
            "\u001b[38;5;3m⚠ Restart to reload dependencies\u001b[0m\n",
            "If you are in a Jupyter or Colab notebook, you may need to restart Python in\n",
            "order to load all the package's dependencies. You can do this by selecting the\n",
            "'Restart kernel' or 'Restart runtime' option.\n",
            "Collecting en-core-web-sm==3.8.0\n",
            "  Using cached https://github.com/explosion/spacy-models/releases/download/en_core_web_sm-3.8.0/en_core_web_sm-3.8.0-py3-none-any.whl (12.8 MB)\n",
            "\u001b[38;5;2m✔ Download and installation successful\u001b[0m\n",
            "You can now load the package via spacy.load('en_core_web_sm')\n",
            "\u001b[38;5;3m⚠ Restart to reload dependencies\u001b[0m\n",
            "If you are in a Jupyter or Colab notebook, you may need to restart Python in\n",
            "order to load all the package's dependencies. You can do this by selecting the\n",
            "'Restart kernel' or 'Restart runtime' option.\n"
          ]
        }
      ],
      "source": [
        "!pip install torch==2.1.0 torchtext==0.16.0 transformers datasets portalocker torchvision \"numpy>=1.21,<2.0\" spacy\n",
        "\n",
        "# spacy 언어 모델 다운로드\n",
        "!python -m spacy download de_core_news_sm\n",
        "!python -m spacy download en_core_web_sm\n",
        "\n",
        "# !pip install torch transformers portalocker datasets torchtext numpy==2.0 torchtune torchvision\n",
        "# !pip install torch==2.1.0 transformers portalocker datasets torchtext numpy\n",
        "# !pip install torch==2.1.0 transformers==4.51.3 portalocker==3.1.1 datasets==3.5.0 torchtext==0.15.1 numpy==1.26.4"
      ]
    },
    {
      "cell_type": "code",
      "execution_count": 2,
      "metadata": {
        "id": "v-5dayQXujWD"
      },
      "outputs": [],
      "source": [
        "from google.colab import userdata\n",
        "key = userdata.get('hf-api')\n",
        "\n",
        "from huggingface_hub import login\n",
        "login(token=key)"
      ]
    },
    {
      "cell_type": "code",
      "execution_count": 3,
      "metadata": {
        "id": "ZjSimtRvujfF"
      },
      "outputs": [],
      "source": [
        "import math, matplotlib.pyplot as plt, os, numpy\n",
        "import torch, torch.nn as nn\n",
        "from tqdm import tqdm\n",
        "from datetime import datetime\n",
        "from torchtext.data.utils import get_tokenizer\n",
        "from torchtext.vocab import build_vocab_from_iterator\n",
        "from torchtext.datasets import multi30k, Multi30k\n",
        "from typing import Iterable, List\n",
        "from torch import Tensor\n",
        "from torch.nn import Transformer # https://github.com/pytorch/pytorch/blob/main/torch/nn/modules/transformer.py, https://github.com/pytorch/pytorch/blob/main/torch/nn/modules/activation.py\n",
        "from torch.nn.utils.rnn import pad_sequence\n",
        "from torch.utils.data import DataLoader\n",
        "from timeit import default_timer as timer"
      ]
    },
    {
      "cell_type": "code",
      "execution_count": 4,
      "metadata": {
        "colab": {
          "base_uri": "https://localhost:8080/"
        },
        "id": "aHjSQku2ujkY",
        "outputId": "a9a7115d-eb71-4a5b-e159-c7a63bec0663"
      },
      "outputs": [
        {
          "output_type": "stream",
          "name": "stdout",
          "text": [
            "Device: cuda\n"
          ]
        }
      ],
      "source": [
        "DEVICE = torch.device('cuda' if torch.cuda.is_available() else 'cpu')\n",
        "print(f'Device: {DEVICE}')\n"
      ]
    },
    {
      "cell_type": "code",
      "execution_count": 5,
      "metadata": {
        "id": "u_gIldaRujmo"
      },
      "outputs": [],
      "source": [
        "SRC_LANGUAGE = 'de'\n",
        "TGT_LANGUAGE = 'en'\n",
        "token_transform = {}\n",
        "vocab_transform = {}\n",
        "text_transform = {}\n",
        "\n",
        "UNK_IDX, PAD_IDX, BOS_IDX, EOS_IDX = 0, 1, 2, 3\n",
        "\n",
        "EMB_SIZE = 512\n",
        "NHEAD = 8\n",
        "FFN_HID_DIM = 512\n",
        "BATCH_SIZE = 128\n",
        "NUM_ENCODER_LAYERS = 3\n",
        "NUM_DECODER_LAYERS = 3\n",
        "NUM_EPOCHS = 2 # 5 18 BEST # 50"
      ]
    },
    {
      "cell_type": "code",
      "execution_count": 6,
      "metadata": {
        "id": "Y1PNUQHvzJ9F"
      },
      "outputs": [],
      "source": [
        "# current date and time\n",
        "current_date_time_string = str(datetime.now().strftime(\"%Y%m%d_%H%M\"))\n",
        "\n",
        "# We need to modify the URLs for the dataset since the links to the original dataset are broken\n",
        "# Refer to https://github.com/pytorch/text/issues/1756#issuecomment-1163664163 for more info\n",
        "multi30k.URL[\"train\"] = \"https://raw.githubusercontent.com/neychev/small_DL_repo/master/datasets/Multi30k/training.tar.gz\"\n",
        "multi30k.URL[\"valid\"] = \"https://raw.githubusercontent.com/neychev/small_DL_repo/master/datasets/Multi30k/validation.tar.gz\"\n"
      ]
    },
    {
      "cell_type": "code",
      "execution_count": 8,
      "metadata": {
        "colab": {
          "base_uri": "https://localhost:8080/"
        },
        "id": "FML6bSMpzJ_0",
        "outputId": "0d147ec7-08f5-48bf-d2b5-fb0d48c41230"
      },
      "outputs": [
        {
          "output_type": "stream",
          "name": "stdout",
          "text": [
            "['Eine', 'Gruppe', 'von', 'Menschen', 'steht', 'vor', 'einem', 'Iglu', '.']\n",
            "['A', 'group', 'of', 'people', 'are', 'standing', 'in', 'front', 'of', 'an', 'igloo', '.']\n"
          ]
        }
      ],
      "source": [
        "# Place-holders\n",
        "token_transform[SRC_LANGUAGE] = get_tokenizer('spacy', language='de_core_news_sm')\n",
        "token_transform[TGT_LANGUAGE] = get_tokenizer('spacy', language='en_core_web_sm')\n",
        "\n",
        "print(token_transform[SRC_LANGUAGE](\"Eine Gruppe von Menschen steht vor einem Iglu .\"))\n",
        "print(token_transform[TGT_LANGUAGE](\"A group of people are standing in front of an igloo .\"))\n"
      ]
    },
    {
      "cell_type": "code",
      "execution_count": 9,
      "metadata": {
        "id": "fo78lprKzKJh"
      },
      "outputs": [],
      "source": [
        "# helper function to yield list of tokens\n",
        "def yield_tokens(data_iter: Iterable, language: str) -> List[str]:\n",
        "\tlanguage_index = {SRC_LANGUAGE: 0, TGT_LANGUAGE: 1}\n",
        "\n",
        "\tfor data_sample in data_iter:\n",
        "\t\tyield token_transform[language](data_sample[language_index[language]])\n"
      ]
    },
    {
      "cell_type": "code",
      "execution_count": 10,
      "metadata": {
        "colab": {
          "base_uri": "https://localhost:8080/"
        },
        "id": "1qeEQn6FzKCC",
        "outputId": "18a68b47-ab49-4224-d4c9-73e051b2dfb8"
      },
      "outputs": [
        {
          "output_type": "stream",
          "name": "stdout",
          "text": [
            "Source[0]: Zwei junge weiße Männer sind im Freien in der Nähe vieler Büsche.\n",
            "Target[0]: Two young, White males are outside near many bushes.\n",
            "Source[1]: Mehrere Männer mit Schutzhelmen bedienen ein Antriebsradsystem.\n",
            "Target[1]: Several men in hard hats are operating a giant pulley system.\n",
            "Source[2]: Ein kleines Mädchen klettert in ein Spielhaus aus Holz.\n",
            "Target[2]: A little girl climbing into a wooden playhouse.\n",
            "Source[3]: Ein Mann in einem blauen Hemd steht auf einer Leiter und putzt ein Fenster.\n",
            "Target[3]: A man in a blue shirt is standing on a ladder cleaning a window.\n",
            "Source[4]: Zwei Männer stehen am Herd und bereiten Essen zu.\n",
            "Target[4]: Two men are at the stove preparing food.\n"
          ]
        },
        {
          "output_type": "stream",
          "name": "stderr",
          "text": [
            "/usr/local/lib/python3.11/dist-packages/torch/utils/data/datapipes/iter/combining.py:333: UserWarning: Some child DataPipes are not exhausted when __iter__ is called. We are resetting the buffer and each child DataPipe will read from the start again.\n",
            "  warnings.warn(\"Some child DataPipes are not exhausted when __iter__ is called. We are resetting \"\n"
          ]
        }
      ],
      "source": [
        "# Define special symbols and indices. Make sure the tokens are in order of their indices to properly insert them in vocab\n",
        "special_symbols = ['<unk>', '<pad>', '<bos>', '<eos>']\n",
        "\n",
        "train_iter = Multi30k(split='train', language_pair=(SRC_LANGUAGE, TGT_LANGUAGE))\n",
        "for i, (src, tgt) in enumerate(train_iter):\n",
        "\tif i >= 5:\n",
        "\t\tbreak\n",
        "\tprint(f\"Source[{i}]: {src}\")\n",
        "\tprint(f\"Target[{i}]: {tgt}\")\n",
        "\n",
        "for ln in [SRC_LANGUAGE, TGT_LANGUAGE]:\n",
        "\t# Create torchtext's Vocab object\n",
        "\tvocab_transform[ln] = build_vocab_from_iterator(yield_tokens(train_iter, ln),\n",
        "\t\t\t\t\t\t\t\t\t\t\t\t\tmin_freq=1,\n",
        "\t\t\t\t\t\t\t\t\t\t\t\t\tspecials=special_symbols,\n",
        "\t\t\t\t\t\t\t\t\t\t\t\t\tspecial_first=True)\n"
      ]
    },
    {
      "cell_type": "code",
      "execution_count": 11,
      "metadata": {
        "colab": {
          "base_uri": "https://localhost:8080/"
        },
        "id": "2LSbjuQYzKEg",
        "outputId": "429a6498-7a61-4dbd-95c3-090e2c0470b2"
      },
      "outputs": [
        {
          "output_type": "execute_result",
          "data": {
            "text/plain": [
              "<torch._C.Generator at 0x7bbec04932b0>"
            ]
          },
          "metadata": {},
          "execution_count": 11
        }
      ],
      "source": [
        "# Set ``UNK_IDX`` as the default index. This index is returned when the token is not found.\n",
        "# If not set, it throws ``RuntimeError`` when the queried token is not found in the Vocabulary.\n",
        "for ln in [SRC_LANGUAGE, TGT_LANGUAGE]:\n",
        "\tvocab_transform[ln].set_default_index(UNK_IDX)\n",
        "torch.manual_seed(0)\n",
        "\n"
      ]
    },
    {
      "cell_type": "code",
      "execution_count": 12,
      "metadata": {
        "id": "hvtR0zc5zhSY"
      },
      "outputs": [],
      "source": [
        "# function to collate data samples into batch tensors\n",
        "def collate_fn(batch):\n",
        "\tglobal text_transform\n",
        "\n",
        "\tsrc_batch, tgt_batch = [], []\n",
        "\tfor src_sample, tgt_sample in batch:\n",
        "\t\tsrc_batch.append(text_transform[SRC_LANGUAGE](src_sample.rstrip(\"\\n\")))\n",
        "\t\ttgt_batch.append(text_transform[TGT_LANGUAGE](tgt_sample.rstrip(\"\\n\")))\n",
        "\n",
        "\tsrc_batch = pad_sequence(src_batch, padding_value=PAD_IDX)\n",
        "\ttgt_batch = pad_sequence(tgt_batch, padding_value=PAD_IDX)\n",
        "\treturn src_batch, tgt_batch\n"
      ]
    },
    {
      "cell_type": "code",
      "execution_count": 13,
      "metadata": {
        "id": "9U2sV1zJzhNY"
      },
      "outputs": [],
      "source": [
        "# helper function to club together sequential operations\n",
        "def sequential_transforms(*transforms):\n",
        "\tdef func(txt_input):\n",
        "\t\tfor transform in transforms:\n",
        "\t\t\ttxt_input = transform(txt_input)\n",
        "\t\treturn txt_input\n",
        "\treturn func\n"
      ]
    },
    {
      "cell_type": "code",
      "execution_count": 14,
      "metadata": {
        "id": "3rIV1DBKzhP0"
      },
      "outputs": [],
      "source": [
        "# function to add BOS/EOS and create tensor for input sequence indices\n",
        "def tensor_transform(token_ids: List[int]):\n",
        "\treturn torch.cat((torch.tensor([BOS_IDX]),\n",
        "\t\t\t\t\ttorch.tensor(token_ids),\n",
        "\t\t\t\t\ttorch.tensor([EOS_IDX])))\n"
      ]
    },
    {
      "cell_type": "code",
      "execution_count": 15,
      "metadata": {
        "id": "kHiFOlXPzKHC"
      },
      "outputs": [],
      "source": [
        "# hyperparameters\n",
        "SRC_VOCAB_SIZE = len(vocab_transform[SRC_LANGUAGE])\n",
        "TGT_VOCAB_SIZE = len(vocab_transform[TGT_LANGUAGE])\n",
        "\n",
        "train_dataloader = DataLoader(train_iter, batch_size=BATCH_SIZE, collate_fn=collate_fn)\n",
        "val_iter = Multi30k(split='valid', language_pair=(SRC_LANGUAGE, TGT_LANGUAGE))\n",
        "val_dataloader = DataLoader(val_iter, batch_size=BATCH_SIZE, collate_fn=collate_fn)\n",
        "\n",
        "for ln in [SRC_LANGUAGE, TGT_LANGUAGE]:\n",
        "\ttext_transform[ln] = sequential_transforms(token_transform[ln], #Tokenization\n",
        "\t\t\t\t\t\t\t\t\t\t\tvocab_transform[ln], #Numericalization\n",
        "\t\t\t\t\t\t\t\t\t\t\ttensor_transform) # Add BOS/EOS and create tensor\n"
      ]
    },
    {
      "cell_type": "code",
      "execution_count": 16,
      "metadata": {
        "id": "bOmFMX4vzKLx"
      },
      "outputs": [],
      "source": [
        "# helper Module that adds positional encoding to the token embedding to introduce a notion of word order.\n",
        "class PositionalEncoding(nn.Module):\n",
        "\tdef __init__(self,\n",
        "\t\t\t\temb_size: int,\n",
        "\t\t\t\tdropout: float,\n",
        "\t\t\t\tmaxlen: int = 5000):\n",
        "\t\tsuper(PositionalEncoding, self).__init__()\n",
        "\t\tden = torch.exp(- torch.arange(0, emb_size, 2)* math.log(10000) / emb_size)\n",
        "\t\tpos = torch.arange(0, maxlen).reshape(maxlen, 1)\n",
        "\t\tpos_embedding = torch.zeros((maxlen, emb_size))\n",
        "\t\tpos_embedding[:, 0::2] = torch.sin(pos * den)\n",
        "\t\tpos_embedding[:, 1::2] = torch.cos(pos * den)\n",
        "\t\tpos_embedding = pos_embedding.unsqueeze(-2)\n",
        "\n",
        "\t\tself.dropout = nn.Dropout(dropout)\n",
        "\t\tself.register_buffer('pos_embedding', pos_embedding)\n",
        "\n",
        "\tdef forward(self, token_embedding: Tensor):\n",
        "\t\treturn self.dropout(token_embedding + self.pos_embedding[:token_embedding.size(0), :])\n"
      ]
    },
    {
      "cell_type": "code",
      "execution_count": 17,
      "metadata": {
        "id": "6p00MT_ezYu8"
      },
      "outputs": [],
      "source": [
        "# helper Module to convert tensor of input indices into corresponding tensor of token embeddings\n",
        "class TokenEmbedding(nn.Module):\n",
        "\tdef __init__(self, vocab_size: int, emb_size):\n",
        "\t\tsuper(TokenEmbedding, self).__init__()\n",
        "\t\tself.embedding = nn.Embedding(vocab_size, emb_size)\n",
        "\t\tself.emb_size = emb_size\n",
        "\n",
        "\tdef forward(self, tokens: Tensor):\n",
        "\t\treturn self.embedding(tokens.long()) * math.sqrt(self.emb_size)\n"
      ]
    },
    {
      "cell_type": "code",
      "execution_count": 18,
      "metadata": {
        "id": "wJeRMIC-zYxU"
      },
      "outputs": [],
      "source": [
        "# Seq2Seq Network\n",
        "class Seq2SeqTransformer(nn.Module):\n",
        "\tdef __init__(self,\n",
        "\t\t\t\tnum_encoder_layers: int,\n",
        "\t\t\t\tnum_decoder_layers: int,\n",
        "\t\t\t\temb_size: int,\n",
        "\t\t\t\tnhead: int,\n",
        "\t\t\t\tsrc_vocab_size: int,\n",
        "\t\t\t\ttgt_vocab_size: int,\n",
        "\t\t\t\tdim_feedforward: int = 512,\n",
        "\t\t\t\tdropout: float = 0.1):\n",
        "\t\tsuper(Seq2SeqTransformer, self).__init__()\n",
        "\t\tself.transformer = Transformer(d_model=emb_size,\n",
        "\t\t\t\t\t\t\t\t\tnhead=nhead,\n",
        "\t\t\t\t\t\t\t\t\tnum_encoder_layers=num_encoder_layers,\n",
        "\t\t\t\t\t\t\t\t\tnum_decoder_layers=num_decoder_layers,\n",
        "\t\t\t\t\t\t\t\t\tdim_feedforward=dim_feedforward,\n",
        "\t\t\t\t\t\t\t\t\tdropout=dropout)\n",
        "\t\tself.generator = nn.Linear(emb_size, tgt_vocab_size)\n",
        "\t\tself.src_tok_emb = TokenEmbedding(src_vocab_size, emb_size)\n",
        "\t\tself.tgt_tok_emb = TokenEmbedding(tgt_vocab_size, emb_size)\n",
        "\t\tself.positional_encoding = PositionalEncoding(\n",
        "\t\t\temb_size, dropout=dropout)\n",
        "\n",
        "\tdef forward(self,\n",
        "\t\t\t\tsrc: Tensor,\n",
        "\t\t\t\ttrg: Tensor,\n",
        "\t\t\t\tsrc_mask: Tensor,\n",
        "\t\t\t\ttgt_mask: Tensor,\n",
        "\t\t\t\tsrc_padding_mask: Tensor,\n",
        "\t\t\t\ttgt_padding_mask: Tensor,\n",
        "\t\t\t\tmemory_key_padding_mask: Tensor):\n",
        "\t\tsrc_emb = self.positional_encoding(self.src_tok_emb(src))\n",
        "\t\ttgt_emb = self.positional_encoding(self.tgt_tok_emb(trg))\n",
        "\t\touts = self.transformer(src_emb, tgt_emb, src_mask, tgt_mask, None,\n",
        "\t\t\t\t\t\t\t\tsrc_padding_mask, tgt_padding_mask, memory_key_padding_mask)\n",
        "\t\treturn self.generator(outs)\n",
        "\n",
        "\tdef encode(self, src: Tensor, src_mask: Tensor):\n",
        "\t\treturn self.transformer.encoder(self.positional_encoding(\n",
        "\t\t\t\t\t\t\tself.src_tok_emb(src)), src_mask)\n",
        "\n",
        "\tdef decode(self, tgt: Tensor, memory: Tensor, tgt_mask: Tensor):\n",
        "\t\treturn self.transformer.decoder(self.positional_encoding(\n",
        "\t\t\t\t\t\tself.tgt_tok_emb(tgt)), memory,\n",
        "\t\t\t\t\t\ttgt_mask)\n"
      ]
    },
    {
      "cell_type": "code",
      "execution_count": 19,
      "metadata": {
        "id": "qfzsTzFCzYzw"
      },
      "outputs": [],
      "source": [
        "def generate_square_subsequent_mask(sz): # create diagonal matrix\n",
        "\tmask = (torch.triu(torch.ones((sz, sz), device=DEVICE)) == 1).transpose(0, 1)\n",
        "\tmask = mask.float().masked_fill(mask == 0, float('-inf')).masked_fill(mask == 1, float(0.0))\n",
        "\treturn mask\n",
        "\n"
      ]
    },
    {
      "cell_type": "code",
      "execution_count": 20,
      "metadata": {
        "id": "gVR4cv4uzKis"
      },
      "outputs": [],
      "source": [
        "def create_mask(src, tgt):\n",
        "\tsrc_seq_len = src.shape[0]\n",
        "\ttgt_seq_len = tgt.shape[0]\n",
        "\n",
        "\ttgt_mask = generate_square_subsequent_mask(tgt_seq_len).to(DEVICE)\n",
        "\tsrc_mask = torch.zeros((src_seq_len, src_seq_len),device=DEVICE).type(torch.bool) # don't train future token\n",
        "\n",
        "\tsrc_padding_mask = (src == PAD_IDX).transpose(0, 1) # padding mask\n",
        "\ttgt_padding_mask = (tgt == PAD_IDX).transpose(0, 1) # padding mask\n",
        "\treturn src_mask, tgt_mask, src_padding_mask, tgt_padding_mask\n"
      ]
    },
    {
      "cell_type": "code",
      "execution_count": 21,
      "metadata": {
        "id": "7BcNKhD-zhUo"
      },
      "outputs": [],
      "source": [
        "def evaluate(val_dataloader, model, loss_fn):\n",
        "\tmodel.eval()\n",
        "\tlosses = 0\n",
        "\n",
        "\tfor src, tgt in tqdm(val_dataloader):\n",
        "\t\tsrc = src.to(DEVICE)\n",
        "\t\ttgt = tgt.to(DEVICE)\n",
        "\n",
        "\t\ttgt_input = tgt[:-1, :]\n",
        "\t\tsrc_mask, tgt_mask, src_padding_mask, tgt_padding_mask = create_mask(src, tgt_input)\n",
        "\n",
        "\t\tlogits = model(src, tgt_input, src_mask, tgt_mask,src_padding_mask, tgt_padding_mask, src_padding_mask)\n",
        "\n",
        "\t\ttgt_out = tgt[1:, :]\n",
        "\t\tloss = loss_fn(logits.reshape(-1, logits.shape[-1]), tgt_out.reshape(-1))\n",
        "\t\tlosses += loss.item()\n",
        "\n",
        "\treturn losses / len(list(val_dataloader))\n"
      ]
    },
    {
      "cell_type": "code",
      "execution_count": 22,
      "metadata": {
        "id": "QXrwZoPdzmcg"
      },
      "outputs": [],
      "source": [
        "# function to generate output sequence using greedy algorithm\n",
        "def greedy_decode(model, src, src_mask, max_len, start_symbol):\n",
        "\tsrc = src.to(DEVICE)\n",
        "\tsrc_mask = src_mask.to(DEVICE)\n",
        "\n",
        "\tmemory = model.encode(src, src_mask)\n",
        "\tys = torch.ones(1, 1).fill_(start_symbol).type(torch.long).to(DEVICE)\n",
        "\tfor i in range(max_len-1):\n",
        "\t\tmemory = memory.to(DEVICE)\n",
        "\t\ttgt_mask = (generate_square_subsequent_mask(ys.size(0))\n",
        "\t\t\t\t\t.type(torch.bool)).to(DEVICE)\n",
        "\t\tout = model.decode(ys, memory, tgt_mask)\n",
        "\t\tout = out.transpose(0, 1)\n",
        "\t\tprob = model.generator(out[:, -1])\n",
        "\t\t_, next_word = torch.max(prob, dim=1)\n",
        "\t\tnext_word = next_word.item()\n",
        "\n",
        "\t\tys = torch.cat([ys,\n",
        "\t\t\t\t\t\ttorch.ones(1, 1).type_as(src.data).fill_(next_word)], dim=0)\n",
        "\t\tif next_word == EOS_IDX:\n",
        "\t\t\tbreak\n",
        "\treturn ys\n"
      ]
    },
    {
      "cell_type": "code",
      "execution_count": 23,
      "metadata": {
        "id": "tou1B2uYzmgU"
      },
      "outputs": [],
      "source": [
        "# actual function to translate input sentence into target language\n",
        "def translate(model: torch.nn.Module, src_sentence: str):\n",
        "\tglobal text_transform\n",
        "\n",
        "\tmodel.eval()\n",
        "\tsrc = text_transform[SRC_LANGUAGE](src_sentence).view(-1, 1).to(DEVICE)\n",
        "\tnum_tokens = src.shape[0]\n",
        "\tsrc_mask = (torch.zeros(num_tokens, num_tokens)).type(torch.bool).to(DEVICE)\n",
        "\ttgt_tokens = greedy_decode(\n",
        "\t\tmodel,  src, src_mask, max_len=num_tokens + 5, start_symbol=BOS_IDX).flatten()\n",
        "\treturn \" \".join(vocab_transform[TGT_LANGUAGE].lookup_tokens(list(tgt_tokens.cpu().numpy()))).replace(\"<bos>\", \"\").replace(\"<eos>\", \"\")\n"
      ]
    },
    {
      "cell_type": "code",
      "execution_count": 24,
      "metadata": {
        "id": "UewmpzkEzmjF"
      },
      "outputs": [],
      "source": [
        "def train_epoch(train_dataloader, BATCH_SIZE, model, optimizer, loss_fn):\n",
        "\tmodel.train()\n",
        "\tlosses = 0\n",
        "\n",
        "\tfor index, (src, tgt) in tqdm(enumerate(train_dataloader)):\n",
        "\t\tsrc = src.to(DEVICE)  # (29,128)\n",
        "\t\ttgt = tgt.to(DEVICE)  # (36,128)\n",
        "\t\ttgt_input = tgt[:-1, :]\n",
        "\t\tsrc_mask, tgt_mask, src_padding_mask, tgt_padding_mask = create_mask(src, tgt_input)\n",
        "\n",
        "\t\tlogits = model(src, tgt_input, src_mask, tgt_mask, src_padding_mask, tgt_padding_mask, src_padding_mask)\n",
        "\t\toptimizer.zero_grad()\n",
        "\n",
        "\t\ttgt_out = tgt[1:, :] # tgt(sequence, batch)=(36,128). shift sequence left side=(35,128)\n",
        "\t\tloss = loss_fn(logits.reshape(-1, logits.shape[-1]), tgt_out.reshape(-1)) # (35*128,voca token prob)=(4480, 10837), tgt_out(4480). loss = max_index of logits's each row is predicted token - tgt_out's each element\n",
        "\t\tloss.backward()\n",
        "\n",
        "\t\toptimizer.step()\n",
        "\t\tlosses += loss.item()\n",
        "\n",
        "\treturn losses / len(list(train_dataloader))\n"
      ]
    },
    {
      "cell_type": "code",
      "execution_count": 25,
      "metadata": {
        "id": "Sz4hSk8UzhXA"
      },
      "outputs": [],
      "source": [
        "def train_model():\n",
        "\tglobal token_tranform, vocab_transform\n",
        "\tglobal PAD_IDX, BOS_IDX, EOS_IDX, UNK_IDX\n",
        "\tglobal SRC_VOCAB_SIZE, TGT_VOCAB_SIZE\n",
        "\tglobal NUM_ENCODER_LAYERS, NUM_DECODER_LAYERS, EMB_SIZE, NHEAD, FFN_HID_DIM\n",
        "\n",
        "\ttransformer = Seq2SeqTransformer(NUM_ENCODER_LAYERS, NUM_DECODER_LAYERS, EMB_SIZE,\n",
        "\t\t\t\t\t\t\t\t\tNHEAD, SRC_VOCAB_SIZE, TGT_VOCAB_SIZE, FFN_HID_DIM)\n",
        "\n",
        "\tfor p in transformer.parameters():\n",
        "\t\tif p.dim() > 1:\n",
        "\t\t\tnn.init.xavier_uniform_(p)\n",
        "\n",
        "\ttransformer = transformer.to(DEVICE)\n",
        "\tloss_fn = torch.nn.CrossEntropyLoss(ignore_index=PAD_IDX)\n",
        "\toptimizer = torch.optim.Adam(transformer.parameters(), lr=0.0001, betas=(0.9, 0.98), eps=1e-9)\n",
        "\n",
        "\t# ``src`` and ``tgt`` language text transforms to convert raw strings into tensors indices\n",
        "\tglobal text_transform\n",
        "\n",
        "\t# current path of this module\n",
        "\tmodule_path = \".\" # os.path.dirname(os.path.abspath(__file__))\n",
        "\ttrain_losses = []\n",
        "\tval_losses = []\n",
        "\tfor epoch in range(1, NUM_EPOCHS+1):\n",
        "\t\tstart_time = timer()\n",
        "\t\ttrain_loss = train_epoch(train_dataloader, BATCH_SIZE, transformer, optimizer, loss_fn)\n",
        "\t\ttrain_losses.append(train_loss)\n",
        "\t\tend_time = timer()\n",
        "\t\tval_loss = evaluate(val_dataloader, transformer, loss_fn)\n",
        "\t\tval_losses.append(val_loss)\n",
        "\n",
        "\t\tprint((f\"Epoch: {epoch}, Train loss: {train_loss:.3f}, Val loss: {val_loss:.3f}, \"f\"Epoch time = {(end_time - start_time):.3f}s\"))\n",
        "\n",
        "\tmodel_file = module_path + '/' + current_date_time_string + '_transformer_model.pth'\n",
        "\ttorch.save(transformer.state_dict(), model_file)\n",
        "\tprint(translate(transformer, \"Eine Gruppe von Menschen steht vor einem Iglu .\"))\n",
        "\n",
        "\t# plot\n",
        "\tplt.xlabel(\"Epoch\")\n",
        "\tplt.ylabel(\"Loss\")\n",
        "\tplt.legend()\n",
        "\tplt.plot(range(1, NUM_EPOCHS+1), train_losses, label=\"Train Loss\")\n",
        "\tplt.show()\n",
        "\n",
        "\tplt.legend()\n",
        "\tplt.plot(range(1, NUM_EPOCHS+1), val_losses, label=\"Validation Loss\")\n",
        "\tplt.show()\n",
        "\n",
        "\treturn model_file\n"
      ]
    },
    {
      "cell_type": "code",
      "execution_count": 26,
      "metadata": {
        "id": "kczpPaR_zhZ2"
      },
      "outputs": [],
      "source": [
        "def test_model(model_file):\n",
        "\tglobal token_tranform, vocab_transform, text_transform\n",
        "\tglobal PAD_IDX, BOS_IDX, EOS_IDX, UNK_IDX\n",
        "\tglobal SRC_VOCAB_SIZE, TGT_VOCAB_SIZE\n",
        "\tglobal NUM_ENCODER_LAYERS, NUM_DECODER_LAYERS, EMB_SIZE, NHEAD, FFN_HID_DIM\n",
        "\n",
        "\ttransformer = Seq2SeqTransformer(NUM_ENCODER_LAYERS, NUM_DECODER_LAYERS, EMB_SIZE,\n",
        "\t\t\t\t\t\t\t\t\tNHEAD, SRC_VOCAB_SIZE, TGT_VOCAB_SIZE, FFN_HID_DIM)\n",
        "\n",
        "\t# load transformer model\n",
        "\tpth = torch.load(model_file)\n",
        "\ttransformer.load_state_dict(pth)\n",
        "\ttransformer.eval()\n",
        "\ttransformer = transformer.to(DEVICE)\n",
        "\n",
        "\tprint(translate(transformer, \"Eine Gruppe von Menschen steht vor einem Iglu .\"))\n",
        "\n",
        "\tval_iter = Multi30k(split='valid', language_pair=(SRC_LANGUAGE, TGT_LANGUAGE))\n",
        "\tfor i, (src, tgt) in enumerate(val_iter):\n",
        "\t\tif i >= 5:\n",
        "\t\t\tbreak\n",
        "\t\tprint(f\"Source[{i}]: {src}\")\n",
        "\t\tprint(f\"Target[{i}]: {tgt}\")\n",
        "\n",
        "\t\toutput = translate(transformer, src)\n",
        "\t\tprint(f\"Predicted[{i}]: {output}\")\n"
      ]
    },
    {
      "cell_type": "code",
      "execution_count": 27,
      "metadata": {
        "colab": {
          "base_uri": "https://localhost:8080/",
          "height": 1000
        },
        "id": "4_RT6AckztyV",
        "outputId": "6e36b6ea-1b5a-48c2-b6cc-b80e4abdbeab"
      },
      "outputs": [
        {
          "output_type": "stream",
          "name": "stderr",
          "text": [
            "/usr/local/lib/python3.11/dist-packages/torch/nn/modules/transformer.py:282: UserWarning: enable_nested_tensor is True, but self.use_nested_tensor is False because encoder_layer.self_attn.batch_first was not True(use batch_first for better inference performance)\n",
            "  warnings.warn(f\"enable_nested_tensor is True, but self.use_nested_tensor is False because {why_not_sparsity_fast_path}\")\n",
            "0it [00:00, ?it/s]/usr/local/lib/python3.11/dist-packages/torch/utils/data/datapipes/iter/combining.py:333: UserWarning: Some child DataPipes are not exhausted when __iter__ is called. We are resetting the buffer and each child DataPipe will read from the start again.\n",
            "  warnings.warn(\"Some child DataPipes are not exhausted when __iter__ is called. We are resetting \"\n",
            "/usr/local/lib/python3.11/dist-packages/torch/nn/functional.py:5076: UserWarning: Support for mismatched key_padding_mask and attn_mask is deprecated. Use same type for both instead.\n",
            "  warnings.warn(\n",
            "227it [00:42,  5.39it/s]\n",
            "8it [00:00,  9.99it/s]\n"
          ]
        },
        {
          "output_type": "stream",
          "name": "stdout",
          "text": [
            "Epoch: 1, Train loss: 5.344, Val loss: 4.106, Epoch time = 46.881s\n"
          ]
        },
        {
          "output_type": "stream",
          "name": "stderr",
          "text": [
            "227it [00:41,  5.43it/s]\n",
            "8it [00:00, 11.57it/s]\n"
          ]
        },
        {
          "output_type": "stream",
          "name": "stdout",
          "text": [
            "Epoch: 2, Train loss: 3.761, Val loss: 3.309, Epoch time = 46.426s\n",
            " A group of people are standing in front of a crowd . \n"
          ]
        },
        {
          "output_type": "stream",
          "name": "stderr",
          "text": [
            "/tmp/ipython-input-25-3507520084.py:42: UserWarning: No artists with labels found to put in legend.  Note that artists whose label start with an underscore are ignored when legend() is called with no argument.\n",
            "  plt.legend()\n"
          ]
        },
        {
          "output_type": "display_data",
          "data": {
            "text/plain": [
              "<Figure size 640x480 with 1 Axes>"
            ],
            "image/png": "[encoded data removed]"
          },
          "metadata": {}
        },
        {
          "output_type": "stream",
          "name": "stderr",
          "text": [
            "/tmp/ipython-input-25-3507520084.py:46: UserWarning: No artists with labels found to put in legend.  Note that artists whose label start with an underscore are ignored when legend() is called with no argument.\n",
            "  plt.legend()\n"
          ]
        },
        {
          "output_type": "display_data",
          "data": {
            "text/plain": [
              "<Figure size 640x480 with 1 Axes>"
            ],
            "image/png": "[encoded data removed]"
          },
          "metadata": {}
        },
        {
          "output_type": "stream",
          "name": "stderr",
          "text": [
            "/usr/local/lib/python3.11/dist-packages/torch/nn/modules/transformer.py:282: UserWarning: enable_nested_tensor is True, but self.use_nested_tensor is False because encoder_layer.self_attn.batch_first was not True(use batch_first for better inference performance)\n",
            "  warnings.warn(f\"enable_nested_tensor is True, but self.use_nested_tensor is False because {why_not_sparsity_fast_path}\")\n"
          ]
        },
        {
          "output_type": "stream",
          "name": "stdout",
          "text": [
            " A group of people are standing in front of a crowd . \n",
            "Source[0]: Eine Gruppe von Männern lädt Baumwolle auf einen Lastwagen\n",
            "Target[0]: A group of men are loading cotton onto a truck\n",
            "Predicted[0]:  A group of men are standing on a field . \n",
            "Source[1]: Ein Mann schläft in einem grünen Raum auf einem Sofa.\n",
            "Target[1]: A man sleeping in a green room on a couch.\n",
            "Predicted[1]:  A man is riding a red shirt on a red shirt . \n",
            "Source[2]: Ein Junge mit Kopfhörern sitzt auf den Schultern einer Frau.\n",
            "Target[2]: A boy wearing headphones sits on a woman's shoulders.\n",
            "Predicted[2]:  A boy with a black shirt is sitting on a woman . \n",
            "Source[3]: Zwei Männer bauen eine blaue Eisfischerhütte auf einem zugefrorenen See auf\n",
            "Target[3]: Two men setting up a blue ice fishing hut on an iced over lake\n",
            "Predicted[3]:  Two men are riding a blue shirt on a field . \n",
            "Source[4]: Ein Mann mit beginnender Glatze, der eine rote Rettungsweste trägt, sitzt in einem kleinen Boot.\n",
            "Target[4]: A balding man wearing a red life jacket is sitting in a small boat.\n",
            "Predicted[4]:  A man with a red shirt is sitting in a red shirt is sitting in a red shirt . \n"
          ]
        }
      ],
      "source": [
        "fname = train_model()\n",
        "test_model(fname)\n",
        "# test_model('./20250420_0945_transformer_model.pth')\n",
        "# test_model('./20250419_2309_transformer_model.pth')"
      ]
    }
  ],
  "metadata": {
    "accelerator": "GPU",
    "colab": {
      "gpuType": "T4",
      "provenance": []
    },
    "kernelspec": {
      "display_name": "venv_lmm",
      "language": "python",
      "name": "python3"
    },
    "language_info": {
      "codemirror_mode": {
        "name": "ipython",
        "version": 3
      },
      "file_extension": ".py",
      "mimetype": "text/x-python",
      "name": "python",
      "nbconvert_exporter": "python",
      "pygments_lexer": "ipython3",
      "version": "3.12.9"
    }
  },
  "nbformat": 4,
  "nbformat_minor": 0
}