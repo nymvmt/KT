{
  "nbformat": 4,
  "nbformat_minor": 0,
  "metadata": {
    "colab": {
      "provenance": [],
      "gpuType": "T4"
    },
    "kernelspec": {
      "name": "python3",
      "display_name": "Python 3"
    },
    "language_info": {
      "name": "python"
    },
    "accelerator": "GPU"
  },
  "cells": [
    {
      "cell_type": "code",
      "execution_count": 1,
      "metadata": {
        "id": "pulD0YV08ZLl"
      },
      "outputs": [],
      "source": [
        "from google.colab import userdata\n",
        "key = userdata.get('hf-api')\n",
        "\n",
        "from huggingface_hub import login\n",
        "login(token=key)"
      ]
    },
    {
      "cell_type": "code",
      "source": [
        "!pip install fpdf==1.7.2\n",
        "!pip install lorem pandas"
      ],
      "metadata": {
        "colab": {
          "base_uri": "https://localhost:8080/"
        },
        "id": "K1Wc-fcR8xL0",
        "outputId": "60046ccf-21a7-4f76-e16f-1831e717a45a"
      },
      "execution_count": 5,
      "outputs": [
        {
          "output_type": "stream",
          "name": "stdout",
          "text": [
            "Requirement already satisfied: fpdf==1.7.2 in /usr/local/lib/python3.11/dist-packages (1.7.2)\n",
            "Collecting lorem\n",
            "  Downloading lorem-0.1.1-py3-none-any.whl.metadata (2.3 kB)\n",
            "Requirement already satisfied: pandas in /usr/local/lib/python3.11/dist-packages (2.2.2)\n",
            "Requirement already satisfied: numpy>=1.23.2 in /usr/local/lib/python3.11/dist-packages (from pandas) (1.26.4)\n",
            "Requirement already satisfied: python-dateutil>=2.8.2 in /usr/local/lib/python3.11/dist-packages (from pandas) (2.8.2)\n",
            "Requirement already satisfied: pytz>=2020.1 in /usr/local/lib/python3.11/dist-packages (from pandas) (2025.1)\n",
            "Requirement already satisfied: tzdata>=2022.7 in /usr/local/lib/python3.11/dist-packages (from pandas) (2025.1)\n",
            "Requirement already satisfied: six>=1.5 in /usr/local/lib/python3.11/dist-packages (from python-dateutil>=2.8.2->pandas) (1.17.0)\n",
            "Downloading lorem-0.1.1-py3-none-any.whl (5.0 kB)\n",
            "Installing collected packages: lorem\n",
            "Successfully installed lorem-0.1.1\n"
          ]
        }
      ]
    },
    {
      "cell_type": "code",
      "source": [
        "from fpdf import FPDF\n",
        "import lorem\n",
        "import pandas as pd\n",
        "\n",
        "# 표 출력을 위해, 데이터 프레임 생성\n",
        "df = pd.DataFrame(\n",
        "          {'feature 1' : ['cat 1', 'cat 2', 'cat 3', 'cat 4'],\n",
        "           'feature 2' : [400, 300, 200, 100]\n",
        "          })\n"
      ],
      "metadata": {
        "id": "VmZVxAdG8doF"
      },
      "execution_count": 6,
      "outputs": []
    },
    {
      "cell_type": "code",
      "source": [
        "# 차트 그림 생성\n",
        "import matplotlib.pyplot as plt\n",
        "import seaborn as sns\n",
        "fig, ax = plt.subplots(1,1, figsize = (6, 4))\n",
        "sns.barplot(data =  df, x = 'feature 1', y = 'feature 2')\n",
        "plt.title(\"Chart\")\n",
        "plt.savefig('./example_chart.png',\n",
        "           transparent=False,\n",
        "           facecolor='white',\n",
        "           bbox_inches=\"tight\")"
      ],
      "metadata": {
        "colab": {
          "base_uri": "https://localhost:8080/",
          "height": 410
        },
        "id": "0WRW-6Jm8dtE",
        "outputId": "5c21bada-fd4a-4092-b876-83df16359561"
      },
      "execution_count": 7,
      "outputs": [
        {
          "output_type": "display_data",
          "data": {
            "text/plain": [
              "<Figure size 600x400 with 1 Axes>"
            ],
            "image/png": "[encoded data removed]"
          },
          "metadata": {}
        }
      ]
    },
    {
      "cell_type": "code",
      "source": [
        "# PDF 클래스 생성\n",
        "ch = 8\n",
        "class PDF(FPDF):\n",
        "    def __init__(self):\n",
        "        super().__init__()\n",
        "    def header(self):\n",
        "        self.set_font('Arial', '', 12)\n",
        "        self.cell(0, 8, 'Header', 0, 1, 'C')\n",
        "    def footer(self):\n",
        "        self.set_y(-15)\n",
        "        self.set_font('Arial', '', 12)\n",
        "        self.cell(0, 8, f'Page {self.page_no()}', 0, 0, 'C')\n",
        "\n"
      ],
      "metadata": {
        "id": "_ROMiu8f8dvk"
      },
      "execution_count": 8,
      "outputs": []
    },
    {
      "cell_type": "code",
      "source": [
        "# 셀을 생성하고, 각 셀에 보고서 내용 설정\n",
        "pdf = PDF()\n",
        "pdf.add_page()\n",
        "pdf.set_font('Arial', 'B', 24)\n",
        "pdf.cell(w=0, h=20, txt=\"Title\", ln=1)\n",
        "pdf.set_font('Arial', '', 16)\n",
        "pdf.cell(w=30, h=ch, txt=\"Date: \", ln=0)\n",
        "pdf.cell(w=30, h=ch, txt=\"01/01/2022\", ln=1)\n",
        "pdf.cell(w=30, h=ch, txt=\"Author: \", ln=0)\n",
        "pdf.cell(w=30, h=ch, txt=\"Max Mustermann\", ln=1)\n",
        "pdf.ln(ch)\n",
        "pdf.multi_cell(w=0, h=5, txt=lorem.paragraph())\n",
        "pdf.image('./example_chart.png', x = 10, y = None, w = 100, h = 0, type = 'PNG', link = '') # 차트 이미지 입력\n",
        "pdf.ln(ch)\n",
        "pdf.multi_cell(w=0, h=5, txt=lorem.paragraph())\n",
        "pdf.ln(ch)"
      ],
      "metadata": {
        "id": "F_dH5dbz8dyL"
      },
      "execution_count": 9,
      "outputs": []
    },
    {
      "cell_type": "code",
      "source": [
        "# 표 헤더 및 내용 설정\n",
        "pdf.set_font('Arial', 'B', 16)\n",
        "pdf.cell(w=40, h=ch, txt='Feature 1', border=1, ln=0, align='C')\n",
        "pdf.cell(w=40, h=ch, txt='Feature 2', border=1, ln=1, align='C')\n",
        "# Table contents\n",
        "pdf.set_font('Arial', '', 16)\n",
        "for i in range(len(df)):\n",
        "    pdf.cell(w=40, h=ch, txt=df['feature 1'].iloc[i], border=1, ln=0, align='C')\n",
        "    pdf.cell(w=40, h=ch, txt=df['feature 2'].iloc[i].astype(str), border=1, ln=1, align='C')\n",
        "\n",
        "# PDF 저장\n",
        "pdf.output(\"example.pdf\")"
      ],
      "metadata": {
        "colab": {
          "base_uri": "https://localhost:8080/",
          "height": 35
        },
        "id": "99RbvtXZ8d0U",
        "outputId": "7e39344f-4521-4fe2-853b-7f6597486a8f"
      },
      "execution_count": 10,
      "outputs": [
        {
          "output_type": "execute_result",
          "data": {
            "text/plain": [
              "''"
            ],
            "application/vnd.google.colaboratory.intrinsic+json": {
              "type": "string"
            }
          },
          "metadata": {},
          "execution_count": 10
        }
      ]
    },
    {
      "cell_type": "code",
      "source": [
        "!ls"
      ],
      "metadata": {
        "colab": {
          "base_uri": "https://localhost:8080/"
        },
        "id": "GoGRFM6z9Dgu",
        "outputId": "49b3c013-8f68-47a9-e9e7-9d851ea670f2"
      },
      "execution_count": 11,
      "outputs": [
        {
          "output_type": "stream",
          "name": "stdout",
          "text": [
            "example_chart.png  example.pdf\tsample_data\n"
          ]
        }
      ]
    },
    {
      "cell_type": "code",
      "source": [
        "from google.colab import files\n",
        "files.download('example.pdf')"
      ],
      "metadata": {
        "colab": {
          "base_uri": "https://localhost:8080/",
          "height": 17
        },
        "id": "rYxtzB_B9Fl-",
        "outputId": "91500388-9a5f-4baa-9b7a-39fb26afd34e"
      },
      "execution_count": 12,
      "outputs": [
        {
          "output_type": "display_data",
          "data": {
            "text/plain": [
              "<IPython.core.display.Javascript object>"
            ],
            "application/javascript": [
              "\n",
              "    async function download(id, filename, size) {\n",
              "      if (!google.colab.kernel.accessAllowed) {\n",
              "        return;\n",
              "      }\n",
              "      const div = document.createElement('div');\n",
              "      const label = document.createElement('label');\n",
              "      label.textContent = `Downloading \"${filename}\": `;\n",
              "      div.appendChild(label);\n",
              "      const progress = document.createElement('progress');\n",
              "      progress.max = size;\n",
              "      div.appendChild(progress);\n",
              "      document.body.appendChild(div);\n",
              "\n",
              "      const buffers = [];\n",
              "      let downloaded = 0;\n",
              "\n",
              "      const channel = await google.colab.kernel.comms.open(id);\n",
              "      // Send a message to notify the kernel that we're ready.\n",
              "      channel.send({})\n",
              "\n",
              "      for await (const message of channel.messages) {\n",
              "        // Send a message to notify the kernel that we're ready.\n",
              "        channel.send({})\n",
              "        if (message.buffers) {\n",
              "          for (const buffer of message.buffers) {\n",
              "            buffers.push(buffer);\n",
              "            downloaded += buffer.byteLength;\n",
              "            progress.value = downloaded;\n",
              "          }\n",
              "        }\n",
              "      }\n",
              "      const blob = new Blob(buffers, {type: 'application/binary'});\n",
              "      const a = document.createElement('a');\n",
              "      a.href = window.URL.createObjectURL(blob);\n",
              "      a.download = filename;\n",
              "      div.appendChild(a);\n",
              "      a.click();\n",
              "      div.remove();\n",
              "    }\n",
              "  "
            ]
          },
          "metadata": {}
        },
        {
          "output_type": "display_data",
          "data": {
            "text/plain": [
              "<IPython.core.display.Javascript object>"
            ],
            "application/javascript": [
              "download(\"download_dea951ba-7564-4764-bca8-0fc10ca9ff55\", \"example.pdf\", 14633)"
            ]
          },
          "metadata": {}
        }
      ]
    },
    {
      "cell_type": "code",
      "source": [
        "!pip install PyPDF2==3.0.1"
      ],
      "metadata": {
        "colab": {
          "base_uri": "https://localhost:8080/"
        },
        "id": "eqpyw8eO9Yw-",
        "outputId": "dfe9237b-9ba0-4016-db5d-0e749ce05459"
      },
      "execution_count": 14,
      "outputs": [
        {
          "output_type": "stream",
          "name": "stdout",
          "text": [
            "Collecting PyPDF2==3.0.1\n",
            "  Downloading pypdf2-3.0.1-py3-none-any.whl.metadata (6.8 kB)\n",
            "Downloading pypdf2-3.0.1-py3-none-any.whl (232 kB)\n",
            "\u001b[?25l   \u001b[90m━━━━━━━━━━━━━━━━━━━━━━━━━━━━━━━━━━━━━━━━\u001b[0m \u001b[32m0.0/232.6 kB\u001b[0m \u001b[31m?\u001b[0m eta \u001b[36m-:--:--\u001b[0m\r\u001b[2K   \u001b[90m━━━━━━━━━━━━━━━━━━━━━━━━━━━━━━━━━━━━━━━━\u001b[0m \u001b[32m232.6/232.6 kB\u001b[0m \u001b[31m17.0 MB/s\u001b[0m eta \u001b[36m0:00:00\u001b[0m\n",
            "\u001b[?25hInstalling collected packages: PyPDF2\n",
            "Successfully installed PyPDF2-3.0.1\n"
          ]
        }
      ]
    },
    {
      "cell_type": "code",
      "source": [
        "import re, PyPDF2\n"
      ],
      "metadata": {
        "id": "gGmiCtgB9U9I"
      },
      "execution_count": 15,
      "outputs": []
    },
    {
      "cell_type": "code",
      "source": [
        "def extract_text(pdf_fname = './example.pdf'):  # sample.pdf 파일을 준비한다. 이 경우는 논문의 ABSTRACT 부분을 추출하는 것으로 코딩되었다.\n",
        "    pdf_file = open(pdf_fname, 'rb')\n",
        "    pdf_reader = PyPDF2.PdfReader(pdf_file)\n",
        "\n",
        "    first_page = pdf_reader.pages[0]\n",
        "    text = first_page.extract_text()\n",
        "\n",
        "    abstract_start = text.find('Author')  # abstract keyword 검색\n",
        "    abstract_start += len('Author')\n",
        "    abstract_end = text.find('Feature')\n",
        "    abstract = text[abstract_start:abstract_end]\n",
        "\n",
        "    # remove new line characters\n",
        "    abstract = abstract.replace('\\n', ' ')\n",
        "\n",
        "    # remove digits and special characters\n",
        "    # abstract = re.sub(r'[^a-zA-Z0-9().,% ]', '', abstract)\n",
        "    return abstract\n",
        "\n"
      ],
      "metadata": {
        "id": "rLbpbjvb9M8g"
      },
      "execution_count": 26,
      "outputs": []
    },
    {
      "cell_type": "code",
      "source": [
        "text = extract_text()\n",
        "text"
      ],
      "metadata": {
        "colab": {
          "base_uri": "https://localhost:8080/",
          "height": 174
        },
        "id": "X8S7Gieb9bNi",
        "outputId": "6b883d9b-adcf-4bd5-e170-79f2ffc8119a"
      },
      "execution_count": 27,
      "outputs": [
        {
          "output_type": "execute_result",
          "data": {
            "text/plain": [
              "': Max Mustermann Dolore neque quaerat consectetur velit quiquia. Ipsum sit non velit ipsum. Dolore sit ipsum quisquam ipsum amet quiquia. Adipisci dolorem etincidunt dolorem tempora non. Sed quaerat eius dolor dolor porro. Etincidunt numquam ut velit modi. Consectetur dolore dolor etincidunt eius consectetur numquam. Aliquam aliquam porro tempora dolorem numquam est consectetur. Consectetur voluptatem velit dolor magnam. Quisquam dolor porro etincidunt aliquam modi tempora. Sit velit porro neque modi adipisci labore sit. Labore quaerat magnam est ut adipisci. Est numquam numquam quisquam tempora magnam ut quiquia. Ipsum velit tempora sed etincidunt ipsum ut. Velit voluptatem ipsum quisquam velit. Quiquia magnam aliquam dolorem. Sed adipisci porro velit etincidunt. '"
            ],
            "application/vnd.google.colaboratory.intrinsic+json": {
              "type": "string"
            }
          },
          "metadata": {},
          "execution_count": 27
        }
      ]
    },
    {
      "cell_type": "code",
      "source": [],
      "metadata": {
        "id": "x_ZF3Om29ejG"
      },
      "execution_count": null,
      "outputs": []
    }
  ]
}