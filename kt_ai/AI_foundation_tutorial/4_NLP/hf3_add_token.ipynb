{
 "cells": [
  {
   "cell_type": "code",
   "execution_count": 1,
   "id": "c4a62c79",
   "metadata": {},
   "outputs": [
    {
     "name": "stdout",
     "output_type": "stream",
     "text": [
      "['[CLS]', 'hello', 'world', ',', 'how', 'are', 'you', '?']\n",
      "['[', 'newt', '##oke', '##n', ']', 'hello', 'world', ',', 'how', 'are', 'you', '?']\n"
     ]
    }
   ],
   "source": [
    "from transformers import BertTokenizerFast, BertModel\n",
    "import torch\n",
    "from torch import nn\n",
    "\n",
    "# BERT 토크나이저 사전학습모델 로딩\n",
    "tokenizer = BertTokenizerFast.from_pretrained('bert-base-uncased')\n",
    "print(tokenizer.tokenize(\"[CLS] Hello world, how are you?\"))\n",
    "\n",
    "print(tokenizer.tokenize(\"[newtoken] Hello world, how are you?\"))\n"
   ]
  },
  {
   "cell_type": "code",
   "execution_count": 2,
   "id": "eabd311e",
   "metadata": {},
   "outputs": [
    {
     "data": {
      "text/plain": [
       "['[newtoken]', 'hello', 'world', ',', 'how', 'are', 'you', '?']"
      ]
     },
     "execution_count": 2,
     "metadata": {},
     "output_type": "execute_result"
    }
   ],
   "source": [
    "# 토큰을 추가하고 다시 토큰화를 한다.\n",
    "tokenizer.add_tokens(['[newtoken]'])\n",
    "tokenizer.tokenize(\"[newtoken] Hello world, how are you?\")\n",
    "\n",
    "# 제대로 토큰화가 된다. \n",
    "# ['[newtoken]', 'hello', 'world', ',', 'how', 'are', 'you', '?’]\n",
    "\n"
   ]
  },
  {
   "cell_type": "code",
   "execution_count": 3,
   "id": "108cd253",
   "metadata": {},
   "outputs": [
    {
     "name": "stdout",
     "output_type": "stream",
     "text": [
      "tensor([[30522,  7592,  2088,  1010,  2129,  2024,  2017,  1029]])\n",
      "First token: tensor(30522)\n",
      "Decoded: [newtoken]\n"
     ]
    }
   ],
   "source": [
    "# 토큰값을 확인해 본다.\n",
    "tokenized = tokenizer(\"[newtoken] Hello world, how are you?\", add_special_tokens=False, return_tensors=\"pt\")\n",
    "print(tokenized['input_ids'])\n",
    "\n",
    "tkn = tokenized['input_ids'][0, 0]\n",
    "print(\"First token:\", tkn)\n",
    "print(\"Decoded:\", tokenizer.decode(tkn))\n",
    "\n",
    "# 다음과 같이, 토큰값이 잘 할당된 것을 알 수 있다.\n",
    "# tensor([[30522,  7592,  2088,  1010,  2129,  2024,  2017,  1029]])\n",
    "# First token: tensor(30522)\n",
    "# Decoded: [newtoken]\n"
   ]
  },
  {
   "cell_type": "code",
   "execution_count": null,
   "id": "b0d26661",
   "metadata": {},
   "outputs": [],
   "source": []
  }
 ],
 "metadata": {
  "kernelspec": {
   "display_name": "venv_lmm",
   "language": "python",
   "name": "python3"
  },
  "language_info": {
   "codemirror_mode": {
    "name": "ipython",
    "version": 3
   },
   "file_extension": ".py",
   "mimetype": "text/x-python",
   "name": "python",
   "nbconvert_exporter": "python",
   "pygments_lexer": "ipython3",
   "version": "3.12.9"
  }
 },
 "nbformat": 4,
 "nbformat_minor": 5
}
