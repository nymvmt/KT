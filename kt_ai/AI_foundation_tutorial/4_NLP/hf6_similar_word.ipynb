{
 "cells": [
  {
   "cell_type": "code",
   "execution_count": 1,
   "id": "aba9f604",
   "metadata": {},
   "outputs": [],
   "source": [
    "# 필요한 라이브러리 설치\n",
    "# !pip install gensim\n",
    "\n",
    "import gensim\n",
    "from gensim.models import Word2Vec\n",
    "import numpy as np\n"
   ]
  },
  {
   "cell_type": "code",
   "execution_count": 2,
   "id": "b0bd83e2",
   "metadata": {},
   "outputs": [
    {
     "name": "stdout",
     "output_type": "stream",
     "text": [
      "Vector for the word 'feel': [ 0.07380505 -0.01533471 -0.04536613  0.06554051 -0.0486016  -0.01816018\n",
      "  0.0287658   0.00991874 -0.08285215 -0.09448818]\n"
     ]
    }
   ],
   "source": [
    "# Example text data\n",
    "sentences = [\n",
    "    \"I feel good today\",\n",
    "    \"The weather is clear and warm today\",\n",
    "    \"I ate kimchi for lunch\",\n",
    "    \"Exercising makes me feel better\"\n",
    "]\n",
    "\n",
    "# Preprocess text data (split words by spaces)\n",
    "sentences = [sentence.split() for sentence in sentences]\n",
    "\n",
    "# Train Word2Vec model\n",
    "model = Word2Vec(sentences, vector_size=10, window=3, min_count=1, sg=0)\n",
    "\n",
    "# Check the vector for a specific word\n",
    "vector = model.wv['feel']\n",
    "print(\"Vector for the word 'feel':\", vector)\n",
    "\n"
   ]
  },
  {
   "cell_type": "code",
   "execution_count": 3,
   "id": "b23f2d8d",
   "metadata": {},
   "outputs": [
    {
     "name": "stdout",
     "output_type": "stream",
     "text": [
      "Words similar to 'feel': [('I', 0.5435898303985596), ('ate', 0.358612596988678), ('today', 0.3293722867965698)]\n"
     ]
    }
   ],
   "source": [
    "# Find similar words\n",
    "similar_words = model.wv.most_similar('feel', topn=3)\n",
    "print(\"Words similar to 'feel':\", similar_words)"
   ]
  }
 ],
 "metadata": {
  "kernelspec": {
   "display_name": "venv_lmm",
   "language": "python",
   "name": "python3"
  },
  "language_info": {
   "codemirror_mode": {
    "name": "ipython",
    "version": 3
   },
   "file_extension": ".py",
   "mimetype": "text/x-python",
   "name": "python",
   "nbconvert_exporter": "python",
   "pygments_lexer": "ipython3",
   "version": "3.12.9"
  }
 },
 "nbformat": 4,
 "nbformat_minor": 5
}
