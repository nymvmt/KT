{
  "cells": [
    {
      "cell_type": "code",
      "execution_count": null,
      "metadata": {
        "colab": {
          "base_uri": "https://localhost:8080/"
        },
        "id": "wr9ik55TAtDB",
        "outputId": "6e3cd7fb-39ca-4755-f14b-157eb7ccd9a7"
      },
      "outputs": [],
      "source": [
        "!pip install langchain langchain_community langchain_openai pypdf faiss-cpu gradio\n"
      ]
    },
    {
      "cell_type": "code",
      "execution_count": null,
      "metadata": {
        "id": "5cM8Fd1ZApIC"
      },
      "outputs": [],
      "source": [
        "from google.colab import userdata\n"
      ]
    },
    {
      "cell_type": "code",
      "execution_count": null,
      "metadata": {},
      "outputs": [],
      "source": [
        "OPENAI_API_KEY = userdata.get('openai-api')\n",
        "TAVILY_API_KEY = userdata.get('travily-api')"
      ]
    },
    {
      "cell_type": "code",
      "execution_count": 7,
      "metadata": {},
      "outputs": [
        {
          "name": "stderr",
          "output_type": "stream",
          "text": [
            "C:\\Users\\MAC\\AppData\\Local\\Temp\\ipykernel_21908\\3128135733.py:9: LangChainDeprecationWarning: The class `ChatOpenAI` was deprecated in LangChain 0.0.10 and will be removed in 1.0. An updated version of the class exists in the :class:`~langchain-openai package and should be used instead. To use it run `pip install -U :class:`~langchain-openai` and import as `from :class:`~langchain_openai import ChatOpenAI``.\n",
            "  llm = ChatOpenAI(temperature=1.0, model='gpt-4o-mini')\n",
            "C:\\Users\\MAC\\AppData\\Local\\Temp\\ipykernel_21908\\3128135733.py:26: UserWarning: You have not specified a value for the `type` parameter. Defaulting to the 'tuples' format for chatbot messages, but this is deprecated and will be removed in a future version of Gradio. Please set type='messages' instead, which uses openai-style dictionaries with 'role' and 'content' keys.\n",
            "  chatbot=gr.Chatbot(height=500),\n",
            "c:\\Users\\MAC\\.conda\\envs\\venv_lmm\\Lib\\site-packages\\gradio\\chat_interface.py:317: UserWarning: The gr.ChatInterface was not provided with a type, so the type of the gr.Chatbot, 'tuples', will be used.\n",
            "  warnings.warn(\n"
          ]
        },
        {
          "name": "stdout",
          "output_type": "stream",
          "text": [
            "* Running on local URL:  http://127.0.0.1:7860\n",
            "\n",
            "Could not create share link. Please check your internet connection or our status page: https://status.gradio.app.\n"
          ]
        },
        {
          "data": {
            "text/html": [
              "<div><iframe src=\"http://127.0.0.1:7860/\" width=\"100%\" height=\"500\" allow=\"autoplay; camera; microphone; clipboard-read; clipboard-write;\" frameborder=\"0\" allowfullscreen></iframe></div>"
            ],
            "text/plain": [
              "<IPython.core.display.HTML object>"
            ]
          },
          "metadata": {},
          "output_type": "display_data"
        },
        {
          "data": {
            "text/plain": []
          },
          "execution_count": 7,
          "metadata": {},
          "output_type": "execute_result"
        },
        {
          "name": "stderr",
          "output_type": "stream",
          "text": [
            "C:\\Users\\MAC\\AppData\\Local\\Temp\\ipykernel_21908\\3128135733.py:19: LangChainDeprecationWarning: The method `BaseChatModel.__call__` was deprecated in langchain-core 0.1.7 and will be removed in 1.0. Use :meth:`~invoke` instead.\n",
            "  gpt_response = llm(history_langchain_format)\n"
          ]
        }
      ],
      "source": [
        "from langchain.chat_models import ChatOpenAI\n",
        "from langchain.schema import AIMessage, HumanMessage, SystemMessage\n",
        "import os\n",
        "import gradio as gr\n",
        "from dotenv import load_dotenv\n",
        "\n",
        "os.environ[\"OPENAI_API_KEY\"] = OPENAI_API_KEY  # API 키 설정\n",
        "\n",
        "llm = ChatOpenAI(temperature=1.0, model='gpt-4o-mini')  \n",
        "\n",
        "# LLM 응답 처리\n",
        "def response(message, history, additional_input_info): # 사용자 입력 메시지, 이전 대화기록, 시스템 메시지\n",
        "    history_langchain_format = []\n",
        "    history_langchain_format.append(SystemMessage(content= additional_input_info))\n",
        "    for human, ai in history:\n",
        "            history_langchain_format.append(HumanMessage(content=human))\n",
        "            history_langchain_format.append(AIMessage(content=ai))\n",
        "    history_langchain_format.append(HumanMessage(content=message))\n",
        "    gpt_response = llm(history_langchain_format)\n",
        "    return gpt_response.content\n",
        "\n",
        "# 인터페이스 생성\n",
        "gr.ChatInterface(\n",
        "    fn=response,   # LLM 응답처리 콜백함수 설정\n",
        "    textbox=gr.Textbox(placeholder=\"Talk\", container=False, scale=7),\n",
        "    chatbot=gr.Chatbot(height=500),\n",
        "    title=\"ChatBot\",\n",
        "    description=\"I'm a chatbot that can chat with you. I'm lovely chatbot.\",\n",
        "    theme=\"soft\",\n",
        "    examples=[[\"Hi\"], [\"I'm good\"], [\"What's your name?\"]],\n",
        "    additional_inputs=[\n",
        "        gr.Textbox(\"\", label=\"Input System Prompt\", placeholder=\"I'm chatbot.\") # placeholder=\"I'm chatbot.\" or \"I'm a chatbot that can chat with you.\" or \"I'm japanese chatbot.\"\n",
        "    ]\n",
        ").launch(share=True)"
      ]
    },
    {
      "cell_type": "code",
      "execution_count": null,
      "metadata": {},
      "outputs": [],
      "source": []
    }
  ],
  "metadata": {
    "accelerator": "GPU",
    "colab": {
      "gpuType": "T4",
      "provenance": []
    },
    "kernelspec": {
      "display_name": "venv_lmm",
      "language": "python",
      "name": "python3"
    },
    "language_info": {
      "codemirror_mode": {
        "name": "ipython",
        "version": 3
      },
      "file_extension": ".py",
      "mimetype": "text/x-python",
      "name": "python",
      "nbconvert_exporter": "python",
      "pygments_lexer": "ipython3",
      "version": "3.12.9"
    }
  },
  "nbformat": 4,
  "nbformat_minor": 0
}
