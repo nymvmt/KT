{
  "nbformat": 4,
  "nbformat_minor": 0,
  "metadata": {
    "colab": {
      "provenance": [],
      "gpuType": "T4"
    },
    "kernelspec": {
      "name": "python3",
      "display_name": "Python 3"
    },
    "language_info": {
      "name": "python"
    },
    "accelerator": "GPU"
  },
  "cells": [
    {
      "cell_type": "code",
      "execution_count": 1,
      "metadata": {
        "colab": {
          "base_uri": "https://localhost:8080/"
        },
        "id": "soUTL5OwjDHE",
        "outputId": "4ecb8145-b06c-4d37-a3ee-be906a389568"
      },
      "outputs": [
        {
          "output_type": "stream",
          "name": "stdout",
          "text": [
            "npm <command>\n",
            "\n",
            "Usage:\n",
            "\n",
            "npm install        install all the dependencies in your project\n",
            "npm install <foo>  add the <foo> dependency to your project\n",
            "npm test           run this project's tests\n",
            "npm run <foo>      run the script named <foo>\n",
            "npm <command> -h   quick help on <command>\n",
            "npm -l             display usage info for all commands\n",
            "npm help <term>    search for help on <term>\n",
            "npm help npm       more involved overview\n",
            "\n",
            "All commands:\n",
            "\n",
            "    access, adduser, audit, bugs, cache, ci, completion,\n",
            "    config, dedupe, deprecate, diff, dist-tag, docs, doctor,\n",
            "    edit, exec, explain, explore, find-dupes, fund, get, help,\n",
            "    help-search, hook, init, install, install-ci-test,\n",
            "    install-test, link, ll, login, logout, ls, org, outdated,\n",
            "    owner, pack, ping, pkg, prefix, profile, prune, publish,\n",
            "    query, rebuild, repo, restart, root, run-script, sbom,\n",
            "    search, set, shrinkwrap, star, stars, start, stop, team,\n",
            "    test, token, uninstall, unpublish, unstar, update, version,\n",
            "    view, whoami\n",
            "\n",
            "Specify configs in the ini-formatted file:\n",
            "    /root/.npmrc\n",
            "or on the command line via: npm <command> --key=value\n",
            "\n",
            "More configuration info: npm help config\n",
            "Configuration fields: npm help 7 config\n",
            "\n",
            "npm@10.8.2 /tools/node/lib/node_modules/npm\n",
            "\u001b[1G\u001b[0K"
          ]
        }
      ],
      "source": [
        "!npm\n"
      ]
    },
    {
      "cell_type": "code",
      "source": [
        "!export OPENAI_API_KEY=\"\"\n",
        "!echo $OPENAI_API_KEY"
      ],
      "metadata": {
        "colab": {
          "base_uri": "https://localhost:8080/"
        },
        "id": "9WWJ_VxGjPrs",
        "outputId": "b97ad491-8fe2-49e6-dcf8-364aaa1e5b29"
      },
      "execution_count": 10,
      "outputs": [
        {
          "output_type": "stream",
          "name": "stdout",
          "text": [
            "\n"
          ]
        }
      ]
    },
    {
      "cell_type": "code",
      "source": [
        "!git clone https://github.com/openai/codex.git"
      ],
      "metadata": {
        "colab": {
          "base_uri": "https://localhost:8080/"
        },
        "id": "IZyB5UodjZ7p",
        "outputId": "1f15d6d2-1e4d-4d1e-8f38-e85a9c6e5f24"
      },
      "execution_count": 3,
      "outputs": [
        {
          "output_type": "stream",
          "name": "stdout",
          "text": [
            "Cloning into 'codex'...\n",
            "remote: Enumerating objects: 9034, done.\u001b[K\n",
            "remote: Counting objects: 100% (2637/2637), done.\u001b[K\n",
            "remote: Compressing objects: 100% (539/539), done.\u001b[K\n",
            "remote: Total 9034 (delta 2435), reused 2103 (delta 2098), pack-reused 6397 (from 2)\u001b[K\n",
            "Receiving objects: 100% (9034/9034), 21.86 MiB | 23.94 MiB/s, done.\n",
            "Resolving deltas: 100% (6070/6070), done.\n"
          ]
        }
      ]
    },
    {
      "cell_type": "code",
      "source": [
        "%cd codex"
      ],
      "metadata": {
        "colab": {
          "base_uri": "https://localhost:8080/"
        },
        "id": "F6yb-7TBjcs9",
        "outputId": "db658eaa-5fc7-4129-9e62-eacd12fcf1e6"
      },
      "execution_count": 4,
      "outputs": [
        {
          "output_type": "stream",
          "name": "stdout",
          "text": [
            "/content/codex\n"
          ]
        }
      ]
    },
    {
      "cell_type": "code",
      "source": [
        "!ls"
      ],
      "metadata": {
        "colab": {
          "base_uri": "https://localhost:8080/"
        },
        "id": "MmkjhJaBjfIi",
        "outputId": "8bef061c-da68-4c19-8647-fbdb5be3a8a3"
      },
      "execution_count": 5,
      "outputs": [
        {
          "output_type": "stream",
          "name": "stdout",
          "text": [
            "AGENTS.md     codex-rs\t  LICENSE\tpnpm-lock.yaml\t     scripts\n",
            "CHANGELOG.md  docs\t  NOTICE\tPNPM.md\n",
            "cliff.toml    flake.lock  package.json\tpnpm-workspace.yaml\n",
            "codex-cli     flake.nix   patches\tREADME.md\n"
          ]
        }
      ]
    },
    {
      "cell_type": "code",
      "source": [
        "!npm install -g @openai/codex"
      ],
      "metadata": {
        "colab": {
          "base_uri": "https://localhost:8080/"
        },
        "id": "HUZ0J-qLjgc3",
        "outputId": "27f667dc-b626-4a69-80fa-0691f1647241"
      },
      "execution_count": 6,
      "outputs": [
        {
          "output_type": "stream",
          "name": "stdout",
          "text": [
            "\u001b[1G\u001b[0K⠙\u001b[1G\u001b[0K⠹\u001b[1G\u001b[0K⠸\u001b[1G\u001b[0K⠼\u001b[1G\u001b[0K⠴\u001b[1G\u001b[0K⠦\u001b[1G\u001b[0K⠧\u001b[1G\u001b[0K⠇\u001b[1G\u001b[0K⠏\u001b[1G\u001b[0K⠋\u001b[1G\u001b[0K⠙\u001b[1G\u001b[0K⠹\u001b[1G\u001b[0K⠸\u001b[1G\u001b[0K⠼\u001b[1G\u001b[0K⠴\u001b[1G\u001b[0K⠦\u001b[1G\u001b[0K⠧\u001b[1G\u001b[0K⠇\u001b[1G\u001b[0K⠏\u001b[1G\u001b[0K⠋\u001b[1G\u001b[0K⠙\u001b[1G\u001b[0K⠹\u001b[1G\u001b[0K⠸\u001b[1G\u001b[0K⠼\u001b[1G\u001b[0K⠴\u001b[1G\u001b[0K⠦\u001b[1G\u001b[0K⠧\u001b[1G\u001b[0K⠇\u001b[1G\u001b[0K⠏\u001b[1G\u001b[0K⠋\u001b[1G\u001b[0K⠙\u001b[1G\u001b[0K⠹\u001b[1G\u001b[0K⠸\u001b[1G\u001b[0K⠼\u001b[1G\u001b[0K⠴\u001b[1G\u001b[0K⠦\u001b[1G\u001b[0K⠧\u001b[1G\u001b[0K⠇\u001b[1G\u001b[0K⠏\u001b[1G\u001b[0K⠋\u001b[1G\u001b[0K⠙\u001b[1G\u001b[0K⠹\u001b[1G\u001b[0K⠸\u001b[1G\u001b[0K⠼\u001b[1G\u001b[0K⠴\u001b[1G\u001b[0K⠦\u001b[1G\u001b[0K⠧\u001b[1G\u001b[0K⠇\u001b[1G\u001b[0K⠏\u001b[1G\u001b[0K⠋\u001b[1G\u001b[0K⠙\u001b[1G\u001b[0K⠹\u001b[1G\u001b[0K⠸\u001b[1G\u001b[0K⠼\u001b[1G\u001b[0K⠴\u001b[1G\u001b[0K⠦\u001b[1G\u001b[0K⠧\u001b[1G\u001b[0K⠇\u001b[1G\u001b[0K⠏\u001b[1G\u001b[0K⠋\u001b[1G\u001b[0K⠙\u001b[1G\u001b[0K⠹\u001b[1G\u001b[0K⠸\u001b[1G\u001b[0K⠼\u001b[1G\u001b[0K⠴\u001b[1G\u001b[0K⠦\u001b[1G\u001b[0K⠧\u001b[1G\u001b[0K⠇\u001b[1G\u001b[0K⠏\u001b[1G\u001b[0K⠋\u001b[1G\u001b[0K⠙\u001b[1G\u001b[0K⠹\u001b[1G\u001b[0K⠸\u001b[1G\u001b[0K⠼\u001b[1G\u001b[0K⠴\u001b[1G\u001b[0K⠦\u001b[1G\u001b[0K⠧\u001b[1G\u001b[0K⠇\u001b[1G\u001b[0K⠏\u001b[1G\u001b[0K⠋\u001b[1G\u001b[0K⠙\u001b[1G\u001b[0K⠹\u001b[1G\u001b[0K⠸\u001b[1G\u001b[0K⠼\u001b[1G\u001b[0K⠴\u001b[1G\u001b[0K⠦\u001b[1G\u001b[0K⠧\u001b[1G\u001b[0K⠇\u001b[1G\u001b[0K⠏\u001b[1G\u001b[0K⠋\u001b[1G\u001b[0K⠙\u001b[1G\u001b[0K⠹\u001b[1G\u001b[0K⠸\u001b[1G\u001b[0K⠼\u001b[1G\u001b[0K⠴\u001b[1G\u001b[0K⠦\u001b[1G\u001b[0K⠧\u001b[1G\u001b[0K⠇\u001b[1G\u001b[0K⠏\u001b[1G\u001b[0K⠋\u001b[1G\u001b[0K⠙\u001b[1G\u001b[0K⠹\u001b[1G\u001b[0K⠸\u001b[1G\u001b[0K⠼\u001b[1G\u001b[0K⠴\u001b[1G\u001b[0K⠦\u001b[1G\u001b[0K⠧\u001b[1G\u001b[0K⠇\u001b[1G\u001b[0K⠏\u001b[1G\u001b[0K⠋\u001b[1G\u001b[0K⠙\u001b[1G\u001b[0K⠹\u001b[1G\u001b[0K⠸\u001b[1G\u001b[0K⠼\u001b[1G\u001b[0K⠴\u001b[1G\u001b[0K⠦\u001b[1G\u001b[0K⠧\u001b[1G\u001b[0K⠇\u001b[1G\u001b[0K⠏\u001b[1G\u001b[0K⠋\u001b[1G\u001b[0K⠙\u001b[1G\u001b[0K⠹\u001b[1G\u001b[0K⠸\u001b[1G\u001b[0K⠼\u001b[1G\u001b[0K⠴\u001b[1G\u001b[0K⠦\u001b[1G\u001b[0K⠧\u001b[1G\u001b[0K⠇\u001b[1G\u001b[0K⠏\u001b[1G\u001b[0K⠋\u001b[1G\u001b[0K⠙\u001b[1G\u001b[0K⠹\u001b[1G\u001b[0K⠸\u001b[1G\u001b[0K⠼\u001b[1G\u001b[0K⠴\u001b[1G\u001b[0K⠦\u001b[1G\u001b[0K⠧\u001b[1G\u001b[0K⠇\u001b[1G\u001b[0K⠏\u001b[1G\u001b[0K⠋\u001b[1G\u001b[0K⠙\u001b[1G\u001b[0K⠹\u001b[1G\u001b[0K⠸\u001b[1G\u001b[0K⠼\u001b[1G\u001b[0K⠴\u001b[1G\u001b[0K⠦\u001b[1G\u001b[0K⠧\u001b[1G\u001b[0K⠇\u001b[1G\u001b[0K⠏\u001b[1G\u001b[0K⠋\u001b[1G\u001b[0K⠙\u001b[1G\u001b[0K⠹\u001b[1G\u001b[0K⠸\u001b[1G\u001b[0K⠼\u001b[1G\u001b[0K⠴\u001b[1G\u001b[0K⠦\u001b[1G\u001b[0K⠧\u001b[1G\u001b[0K⠇\u001b[1G\u001b[0K⠏\u001b[1G\u001b[0K\u001b[1mnpm\u001b[22m \u001b[33mwarn\u001b[39m \u001b[94mEBADENGINE\u001b[39m Unsupported engine {\n",
            "\u001b[1mnpm\u001b[22m \u001b[33mwarn\u001b[39m \u001b[94mEBADENGINE\u001b[39m   package: \u001b[32m'@openai/codex@0.1.2505171619'\u001b[39m,\n",
            "\u001b[1mnpm\u001b[22m \u001b[33mwarn\u001b[39m \u001b[94mEBADENGINE\u001b[39m   required: { node: \u001b[32m'>=22'\u001b[39m },\n",
            "\u001b[1mnpm\u001b[22m \u001b[33mwarn\u001b[39m \u001b[94mEBADENGINE\u001b[39m   current: { node: \u001b[32m'v20.19.0'\u001b[39m, npm: \u001b[32m'10.8.2'\u001b[39m }\n",
            "\u001b[1mnpm\u001b[22m \u001b[33mwarn\u001b[39m \u001b[94mEBADENGINE\u001b[39m }\n",
            "\u001b[1G\u001b[0K⠋\u001b[1G\u001b[0K⠙\u001b[1G\u001b[0K⠹\u001b[1G\u001b[0K⠸\u001b[1G\u001b[0K⠼\u001b[1G\u001b[0K⠴\u001b[1G\u001b[0K⠦\u001b[1G\u001b[0K⠧\u001b[1G\u001b[0K⠇\u001b[1G\u001b[0K⠏\u001b[1G\u001b[0K⠋\u001b[1G\u001b[0K⠙\u001b[1G\u001b[0K⠹\u001b[1G\u001b[0K⠸\u001b[1G\u001b[0K⠼\u001b[1G\u001b[0K⠴\u001b[1G\u001b[0K⠦\u001b[1G\u001b[0K⠧\u001b[1G\u001b[0K⠇\u001b[1G\u001b[0K⠏\u001b[1G\u001b[0K⠋\u001b[1G\u001b[0K\u001b[1mnpm\u001b[22m \u001b[33mwarn\u001b[39m \u001b[94mdeprecated\u001b[39m node-domexception@1.0.0: Use your platform's native DOMException instead\n",
            "\u001b[1G\u001b[0K⠋\u001b[1G\u001b[0K⠙\u001b[1G\u001b[0K⠹\u001b[1G\u001b[0K⠸\u001b[1G\u001b[0K⠼\u001b[1G\u001b[0K⠴\u001b[1G\u001b[0K⠦\u001b[1G\u001b[0K⠧\u001b[1G\u001b[0K⠇\u001b[1G\u001b[0K⠏\u001b[1G\u001b[0K⠋\u001b[1G\u001b[0K⠙\u001b[1G\u001b[0K⠹\u001b[1G\u001b[0K\n",
            "added 220 packages in 17s\n",
            "\u001b[1G\u001b[0K⠹\u001b[1G\u001b[0K\n",
            "\u001b[1G\u001b[0K⠹\u001b[1G\u001b[0K69 packages are looking for funding\n",
            "\u001b[1G\u001b[0K⠹\u001b[1G\u001b[0K  run `npm fund` for details\n",
            "\u001b[1G\u001b[0K⠹\u001b[1G\u001b[0K"
          ]
        }
      ]
    },
    {
      "cell_type": "code",
      "source": [
        "!codex \"explain this codebase to me\""
      ],
      "metadata": {
        "colab": {
          "base_uri": "https://localhost:8080/"
        },
        "id": "1qTy-T3sjiYl",
        "outputId": "f2bedf9f-8c8c-4131-8a65-8a1c3a63a54c"
      },
      "execution_count": 9,
      "outputs": [
        {
          "output_type": "stream",
          "name": "stdout",
          "text": [
            "\u001b[2J\u001b[3J\u001b[HSign in with ChatGPT to generate an API key or paste one you already have.\n",
            "\u001b[2m[use arrows to move, enter to select]\u001b[22m\n",
            "\n",
            "\u001b[34m❯\u001b[39m \u001b[34mSign in with ChatGPT\u001b[39m\n",
            "  Paste an API key (or set as OPENAI_API_KEY)\u001b[?25l\u001b[2J\u001b[3J\u001b[HSign in with ChatGPT to generate an API key or paste one you already have.\n",
            "\u001b[2m[use arrows to move, enter to select]\u001b[22m\n",
            "\n",
            "\u001b[34m❯\u001b[39m \u001b[34mSign in with ChatGPT\u001b[39m\n",
            "  Paste an API key (or set as OPENAI_API_KEY)\u001b[?25h\u001b[?25h\u001b[?25h^C\n"
          ]
        }
      ]
    },
    {
      "cell_type": "code",
      "source": [],
      "metadata": {
        "id": "_opbiA5QjrAe"
      },
      "execution_count": null,
      "outputs": []
    }
  ]
}