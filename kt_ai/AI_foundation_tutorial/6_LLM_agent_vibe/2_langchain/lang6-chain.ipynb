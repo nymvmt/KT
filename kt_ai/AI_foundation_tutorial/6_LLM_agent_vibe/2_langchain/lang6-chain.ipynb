{
 "cells": [
  {
   "cell_type": "code",
   "execution_count": null,
   "metadata": {
    "colab": {
     "base_uri": "https://localhost:8080/"
    },
    "executionInfo": {
     "elapsed": 21030,
     "status": "ok",
     "timestamp": 1745736849435,
     "user": {
      "displayName": "Taewook Kang",
      "userId": "11578752810222612195"
     },
     "user_tz": -540
    },
    "id": "wr9ik55TAtDB",
    "outputId": "6ef66e36-debb-4fae-86c9-cd5cb00b868a"
   },
   "outputs": [],
   "source": [
    "!pip install langchain langchain_community langchain_openai\n"
   ]
  },
  {
   "cell_type": "code",
   "execution_count": null,
   "metadata": {
    "executionInfo": {
     "elapsed": 807,
     "status": "ok",
     "timestamp": 1745736827461,
     "user": {
      "displayName": "Taewook Kang",
      "userId": "11578752810222612195"
     },
     "user_tz": -540
    },
    "id": "5cM8Fd1ZApIC"
   },
   "outputs": [],
   "source": [
    "from google.colab import userdata\n",
    "key = userdata.get('openai-api')\n"
   ]
  },
  {
   "cell_type": "code",
   "execution_count": null,
   "metadata": {},
   "outputs": [
    {
     "data": {
      "text/plain": [
       "AIMessage(content='유클리드 기하학(Euclidean geometry)은 고대 그리스의 수학자 유클리드(Euclid)의 저서인 \"기하학 원론\"에서 발전된 기하학의 한 분야입니다. 유클리드 기하학은 평면과 공간에서의 도형, 거리, 각도, 면적, 부피 등을 다루며, 다음과 같은 기본 원칙과 공리를 기반으로 합니다.\\n\\n1. **점, 선, 면**: 유클리드 기하학에서는 점, 선, 면을 기본 개념으로 정의합니다. 점은 위치를 나타내는 무형의 개념이며, 선은 두 점을 연결하는 길이, 면은 두 차원 공간에서의 넓이를 가집니다.\\n\\n2. **공리와 정리**: 유클리드 기하학은 몇 가지 기본 공리(자명한 사실)와 정의를 바탕으로 여러 정리를 증명하는 방식으로 발전합니다. 예를 들어, 두 점을 연결하는 직선은 유일하게 존재한다는 공리 등이 있습니다.\\n\\n3. **평행선 공리**: 유클리드 기하학의 중요한 특징 중 하나는 평행선 공리입니다. 이 공리는 \"한 직선 위에 있지 않은 한 점이 있을 때, 그 점을 지나고 주어진 직선과 평행한 직선은 유일하게 존재한다\"는 내용을 담고 있습니다.\\n\\n4. **도형의 성질**: 유클리드 기하학에서는 삼각형, 사각형, 원 등 다양한 도형의 성질과 관계를 연구합니다. 예를 들어, 삼각형의 내각의 합은 180도라는 정리가 있습니다.\\n\\n유클리드 기하학은 현대 수학의 기초를 이루며, 고전적인 기하학의 형태로 여전히 많은 분야에서 사용되고 있습니다. 그러나 비유클리드 기하학과 같은 다른 기하학적 체계도 존재하며, 이는 유클리드 기하학의 공리 중 일부를 수정하거나 대체하여 발전한 것입니다.', additional_kwargs={'refusal': None}, response_metadata={'token_usage': {'completion_tokens': 452, 'prompt_tokens': 17, 'total_tokens': 469, 'completion_tokens_details': {'accepted_prediction_tokens': 0, 'audio_tokens': 0, 'reasoning_tokens': 0, 'rejected_prediction_tokens': 0}, 'prompt_tokens_details': {'audio_tokens': 0, 'cached_tokens': 0}}, 'model_name': 'gpt-4o-mini-2024-07-18', 'system_fingerprint': 'fp_0392822090', 'finish_reason': 'stop', 'logprobs': None}, id='run-beb5ddf6-c031-4731-8dba-e0e415c4ca81-0', usage_metadata={'input_tokens': 17, 'output_tokens': 452, 'total_tokens': 469, 'input_token_details': {'audio': 0, 'cache_read': 0}, 'output_token_details': {'audio': 0, 'reasoning': 0}})"
      ]
     },
     "execution_count": 4,
     "metadata": {},
     "output_type": "execute_result"
    }
   ],
   "source": [
    "from langchain_openai import ChatOpenAI\n",
    "llm = ChatOpenAI(model=\"gpt-4o-mini\", temperature=0.1, openai_api_key=key, max_tokens=512)\n",
    "llm.invoke(\"유클리드 기하학이란?\")"
   ]
  },
  {
   "cell_type": "code",
   "execution_count": 8,
   "metadata": {},
   "outputs": [
    {
     "name": "stdout",
     "output_type": "stream",
     "text": [
      "input_variables=['query'] input_types={} partial_variables={} messages=[HumanMessagePromptTemplate(prompt=PromptTemplate(input_variables=['query'], input_types={}, partial_variables={}, template='파이썬 코딩을 통해 설명하세요: {query}'), additional_kwargs={})]\n"
     ]
    },
    {
     "data": {
      "text/plain": [
       "'선형대수(Linear Algebra)는 벡터, 행렬, 그리고 이들 간의 선형 변환을 다루는 수학의 한 분야입니다. 선형대수는 데이터 과학, 머신러닝, 컴퓨터 그래픽스 등 다양한 분야에서 중요한 역할을 합니다. \\n\\n파이썬을 사용하여 선형대수의 기본 개념을 설명하기 위해, NumPy 라이브러리를 활용한 예제를 보여드리겠습니다. NumPy는 파이썬에서 수치 계산을 위한 강력한 라이브러리로, 배열 및 행렬 연산을 쉽게 수행할 수 있습니다.\\n\\n### 1. 벡터와 행렬 생성\\n\\n```python\\nimport numpy as np\\n\\n# 1차원 배열 (벡터)\\nvector = np.array([1, 2, 3])\\nprint(\"벡터:\")\\nprint(vector)\\n\\n# 2차원 배열 (행렬)\\nmatrix = np.array([[1, 2, 3],\\n                   [4, 5, 6],\\n                   [7, 8, 9]])\\nprint(\"\\\\n행렬:\")\\nprint(matrix)\\n```\\n\\n### 2. 벡터의 덧셈과 스칼라 곱\\n\\n```python\\n# 벡터의 덧셈\\nvector2 = np.array([4, 5, 6])\\nvector_sum = vector + vector2\\nprint(\"\\\\n벡터의 덧셈:\")\\nprint(vector_sum)\\n\\n# 스칼라 곱\\nscalar = 2\\nscaled_vector = scalar * vector\\nprint(\"\\\\n스칼라 곱:\")\\nprint(scaled_vector)\\n```\\n\\n### 3. 행렬의 곱셈\\n\\n```python\\n# 행렬의 곱셈\\nmatrix2 = np.array([[1, 0, 0],\\n                    [0, 1, 0],\\n                    [0, 0, 1]])\\nmatrix_product = np.dot(matrix, matrix2)\\nprint(\"\\\\n행렬의 곱셈:\")\\nprint(matrix_product)\\n```\\n\\n### 4. 선형 변환\\n\\n선형 변환은 행렬을 사용하여 벡터를 변환하는 과정입니다. 예를 들어, 2D 평면에서 벡터를 회전시키는 변환을 생각해볼 수 있습니다.\\n\\n```python\\n# 2D 회전 행렬\\ntheta = np.radians(45)  # 45도 회'"
      ]
     },
     "execution_count": 8,
     "metadata": {},
     "output_type": "execute_result"
    }
   ],
   "source": [
    "from langchain_openai import ChatOpenAI\n",
    "from langchain_core.prompts import ChatPromptTemplate\n",
    "from langchain_core.output_parsers import StrOutputParser\n",
    "\n",
    "prompt = ChatPromptTemplate.from_template(\"파이썬 코딩을 통해 설명하세요: {query}\")\n",
    "print(prompt)\n",
    "\n",
    "llm = ChatOpenAI(model=\"gpt-4o-mini\", temperature=0.1, openai_api_key=key, max_tokens=512)\n",
    "\n",
    "output_parser = StrOutputParser()\n",
    "\n",
    "chain = prompt | llm | output_parser\n",
    "chain.invoke({\"query\": \"선형대수란?\"})"
   ]
  },
  {
   "cell_type": "code",
   "execution_count": 10,
   "metadata": {},
   "outputs": [
    {
     "name": "stdout",
     "output_type": "stream",
     "text": [
      "positive opinion:  민주주의의 장점은 여러 가지가 있으며, 그 중 일부는 다음과 같습니다:\n",
      "\n",
      "1. **국민의 참여**: 민주주의는 국민이 정치적 과정에 참여할 수 있는 기회를 제공합니다. 이는 국민이 자신의 의견을 표현하고, 정부의 결정에 영향을 미칠 수 있는 중요한 수단입니다.\n",
      "\n",
      "2. **책임 있는 정부**: 민주주의 체제에서는 정부가 국민에게 책임을 져야 합니다. 정기적인 선거를 통해 국민은 정부의 성과를 평가하고, 필요시 교체할 수 있는 권리를 가집니다.\n",
      "\n",
      "3. **인권 보호**: 민주주의는 개인의 기본적인 권리와 자유를 존중하고 보호하는 데 중점을 둡니다. 이는 표현의 자유, 집회의 자유, 언론의 자유 등을 포함하여, 개인이 자신의 의견을 자유롭게 표현할 수 있는 환경을 조성합니다.\n",
      "\n",
      "4. **법의 지배**: 민주주의에서는 법이 모든 시민에게 공정하게 적용되며, 법 앞에 평등한 대우를 받습니다. 이는 권력 남용을 방지하고, 정의로운 사회를 구축하는 데 기여합니다.\n",
      "\n",
      "5. **사회적 다양성 존중**: 민주주의는 다양한 의견과 관점을 존중하며, 소수의 의견도 보호하는 원칙을 가지고 있습니다. 이는 사회의 다양한 목소리가 반영될 수 있도록 하여, 보다 포괄적이고 균형 잡힌 정책 결정을 가능하게 합니다.\n",
      "\n",
      "6. **정치적 안정**: 민주주의는 정치적 갈등을 평화롭게 해결할 수 있는 메커니즘을 제공합니다. 정기적인 선거와 대화의 장을 통해 갈등을 조정하고, 사회적 안정을 유지할 수 있습니다.\n",
      "\n",
      "7. **경제적 발전**: 민주주의는 투명한 정부 운영과 법치주의를 통해 경제적 안정성을 높이고, 투자 환경을 개선하여 경제 발전을 촉진할 수 있습니다.\n",
      "\n",
      "8. **시민 교육**: 민주주의는 시민들이 정치적 과정에 참여하도록 장려함으로써, 시민 교육과 정치적 의식을 높이는 데 기여합니다. 이는 장기적으로 더 나은 사회를 만드는 데 중요한 역할을 합니다.\n",
      "\n",
      "이러한 장점들은 민주주의가 많은 국가에서 선호되는 정치 체제로 자리 잡게 만든 요소들입니다. 그러나 민주주의가 효과적으로 기능하기 위해서는 시민의 참여와 책임, 그리고 교육이 필수적입니다.\n",
      "\n",
      "negative opinion:  민주주의는 많은 장점이 있지만, 몇 가지 단점이나 한계도 존재합니다. 주요 단점은 다음과 같습니다:\n",
      "\n",
      "1. **다수의 폭정**: 다수결 원칙에 따라 다수의 의견이 존중되지만, 이는 소수의 권리를 침해할 수 있습니다. 다수의 의견이 항상 옳거나 정의로운 것은 아니며, 소수 집단이 차별받거나 무시될 위험이 있습니다.\n",
      "\n",
      "2. **정치적 분열**: 민주주의는 다양한 의견과 이념이 존재하는 사회에서 발전하지만, 이로 인해 정치적 분열과 갈등이 심화될 수 있습니다. 극단적인 정치적 대립은 사회의 통합을 저해할 수 있습니다.\n",
      "\n",
      "3. **선거의 왜곡**: 선거 과정에서 자금력이나 미디어의 영향력에 따라 공정성이 훼손될 수 있습니다. 부유한 개인이나 단체가 정치적 영향력을 행사하여 불공정한 경쟁을 초래할 수 있습니다.\n",
      "\n",
      "4. **정보의 비대칭**: 유권자들이 충분한 정보에 기반하여 의사 결정을 내리기 어려운 경우가 많습니다. 정보의 비대칭은 잘못된 판단을 초래할 수 있으며, 이는 민주적 과정의 질을 저하시킬 수 있습니다.\n",
      "\n",
      "5. **정치적 무관심**: 일부 유권자들은 정치에 대한 관심이 낮거나 무관심할 수 있습니다. 이는 선거 참여율 저하와 정치적 대표성의 왜곡으로 이어질 수 있습니다.\n",
      "\n",
      "6. **단기적 결정**: 민주주의는 선거 주기에 따라 정책 결정이 이루어지기 때문에, 장기적인 관점에서의 정책 추진이 어려울 수 있습니다. 정치인들은 재선에 대한 압박으로 인해 단기적인 성과를 중시할 수 있습니다.\n",
      "\n",
      "7. **복잡한 의사 결정 과정**: 민주주의는 다양한 의견을 반영해야 하므로 의사 결정 과정이 복잡하고 느릴 수 있습니다. 이는 긴급한 상황에서 신속한 대응을 어렵게 만들 수 있습니다.\n",
      "\n",
      "이러한 단점에도 불구하고 민주주의는 여전히 많은 사람들에게 가장 바람직한 정치 체제로 여겨지며, 지속적인 개선과 발전이 필요합니다.\n",
      "\n",
      "final opinion 민주주의는 정치 체제의 한 형태로, 국민이 정치적 권리를 가지고 정부의 구성과 정책 결정에 참여하는 시스템을 의미합니다. 민주주의의 핵심 원칙은 다음과 같습니다:\n",
      "\n",
      "1. **주권**: 국민이 국가의 주권을 가지고 있으며, 정부는 국민의 의사를 반영해야 합니다.\n",
      "2. **선거**: 정기적으로 공정하고 자유로운 선거를 통해 대표를 선출하며, 이를 통해 국민의 의사를 표현합니다.\n",
      "3. **법의 지배**: 모든 시민은 법 앞에 평등하며, 법은 공정하게 적용되어야 합니다.\n",
      "4. **인권 존중**: 개인의 기본적인 권리와 자유가 보호되어야 하며, 표현의 자유, 집회의 자유, 언론의 자유 등이 포함됩니다.\n",
      "5. **다수결 원칙**: 정책 결정 시 다수의 의견을 존중하되, 소수의 의견도 보호해야 합니다.\n",
      "\n",
      "민주주의는 대의 민주주의와 직접 민주주의로 나눌 수 있습니다. 대의 민주주의는 국민이 선출한 대표가 의사 결정을 하는 방식이며, 직접 민주주의는 국민이 직접 정책 결정에 참여하는 형태입니다.\n",
      "\n",
      "민주주의는 정치적 안정과 사회적 발전을 촉진하는 중요한 요소로 여겨지며, 다양한 형태와 변형이 존재합니다. 각국의 역사와 문화에 따라 민주주의의 구현 방식은 다를 수 있습니다.\n"
     ]
    }
   ],
   "source": [
    "from langchain_openai import ChatOpenAI\n",
    "from langchain.prompts import ChatPromptTemplate\n",
    "from langchain.schema import StrOutputParser\n",
    "from langchain_core.runnables import RunnablePassthrough, RunnableParallel, RunnableMap\n",
    "from operator import itemgetter\n",
    "\n",
    "llm = ChatOpenAI(openai_api_key=key, temperature=0.1, model=\"gpt-4o-mini\")\n",
    "\n",
    "basictopic = (\n",
    "    ChatPromptTemplate.from_template(\"{topic} 에 대해 설명합니다\")\n",
    "    | llm\n",
    "    | StrOutputParser()\n",
    "    | {\"base\": RunnablePassthrough()}\n",
    ")\n",
    "\n",
    "positive = (\n",
    "    ChatPromptTemplate.from_template(\n",
    "        \"{base} 의 장점은?\"\n",
    "    )\n",
    "    | llm\n",
    "    | StrOutputParser()\n",
    ")\n",
    "\n",
    "negative = (\n",
    "    ChatPromptTemplate.from_template(\n",
    "        \"{base} 의 단점은?\"\n",
    "    )\n",
    "    | llm\n",
    "    | StrOutputParser()\n",
    ")\n",
    "\n",
    "final = (\n",
    "    ChatPromptTemplate.from_messages(\n",
    "        [\n",
    "            (\"ai\", \"{original_response}\"),\n",
    "            (\"human\", \"긍정:\\n{results_1}\\n\\n부정:\\n{results_2}\"),\n",
    "            (\"system\", \"비평에 대한 최종 답변 생성\"),\n",
    "        ]\n",
    "    )\n",
    "    | llm \n",
    "    | StrOutputParser()\n",
    ")\n",
    "\n",
    "# positive, negative, final을 RunnableParallel로 병렬처리\n",
    "chain = (\n",
    "    basictopic\n",
    "    | RunnableParallel(\n",
    "        results_1 = positive,\n",
    "        results_2 = negative,\n",
    "        original_response = itemgetter(\"base\"),\n",
    "    )\n",
    "    | RunnableMap(\n",
    "        {\n",
    "            \"positive_result\": itemgetter(\"results_1\"),\n",
    "            \"negative_result\": itemgetter(\"results_2\"),\n",
    "            \"final_answer\": itemgetter(\"original_response\"),\n",
    "        }\n",
    "    )\n",
    ")\n",
    "\n",
    "result = chain.invoke({\"topic\": \"민주주의\"})\n",
    "\n",
    "positive_result = result['positive_result']\n",
    "negative_result = result['negative_result']\n",
    "final_answer = result['final_answer']\n",
    "\n",
    "print(\"positive opinion: \", positive_result)\n",
    "print(\"\\nnegative opinion: \", negative_result)\n",
    "print(\"\\nfinal opinion\", final_answer)\n"
   ]
  },
  {
   "cell_type": "code",
   "execution_count": null,
   "metadata": {},
   "outputs": [],
   "source": []
  }
 ],
 "metadata": {
  "accelerator": "GPU",
  "colab": {
   "authorship_tag": "ABX9TyOXKu59KiZGTj+nqOFQJADw",
   "gpuType": "T4",
   "provenance": []
  },
  "kernelspec": {
   "display_name": "venv_lmm",
   "language": "python",
   "name": "python3"
  },
  "language_info": {
   "codemirror_mode": {
    "name": "ipython",
    "version": 3
   },
   "file_extension": ".py",
   "mimetype": "text/x-python",
   "name": "python",
   "nbconvert_exporter": "python",
   "pygments_lexer": "ipython3",
   "version": "3.12.9"
  }
 },
 "nbformat": 4,
 "nbformat_minor": 0
}
