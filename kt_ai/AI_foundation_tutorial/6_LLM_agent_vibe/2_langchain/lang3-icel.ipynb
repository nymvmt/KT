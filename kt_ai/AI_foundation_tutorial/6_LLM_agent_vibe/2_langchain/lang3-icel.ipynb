{
 "cells": [
  {
   "cell_type": "code",
   "execution_count": 1,
   "metadata": {
    "colab": {
     "base_uri": "https://localhost:8080/"
    },
    "executionInfo": {
     "elapsed": 21030,
     "status": "ok",
     "timestamp": 1745736849435,
     "user": {
      "displayName": "Taewook Kang",
      "userId": "11578752810222612195"
     },
     "user_tz": -540
    },
    "id": "wr9ik55TAtDB",
    "outputId": "6ef66e36-debb-4fae-86c9-cd5cb00b868a"
   },
   "outputs": [
    {
     "name": "stdout",
     "output_type": "stream",
     "text": [
      "Requirement already satisfied: langchain in c:\\users\\mac\\.conda\\envs\\venv_lmm\\lib\\site-packages (0.3.21)\n",
      "Requirement already satisfied: langchain_community in c:\\users\\mac\\.conda\\envs\\venv_lmm\\lib\\site-packages (0.3.20)\n",
      "Requirement already satisfied: langchain_openai in c:\\users\\mac\\.conda\\envs\\venv_lmm\\lib\\site-packages (0.3.1)\n",
      "Requirement already satisfied: langchain-core<1.0.0,>=0.3.45 in c:\\users\\mac\\.conda\\envs\\venv_lmm\\lib\\site-packages (from langchain) (0.3.49)\n",
      "Requirement already satisfied: langchain-text-splitters<1.0.0,>=0.3.7 in c:\\users\\mac\\.conda\\envs\\venv_lmm\\lib\\site-packages (from langchain) (0.3.7)\n",
      "Requirement already satisfied: langsmith<0.4,>=0.1.17 in c:\\users\\mac\\.conda\\envs\\venv_lmm\\lib\\site-packages (from langchain) (0.3.19)\n",
      "Requirement already satisfied: pydantic<3.0.0,>=2.7.4 in c:\\users\\mac\\.conda\\envs\\venv_lmm\\lib\\site-packages (from langchain) (2.10.6)\n",
      "Requirement already satisfied: SQLAlchemy<3,>=1.4 in c:\\users\\mac\\.conda\\envs\\venv_lmm\\lib\\site-packages (from langchain) (2.0.40)\n",
      "Requirement already satisfied: requests<3,>=2 in c:\\users\\mac\\.conda\\envs\\venv_lmm\\lib\\site-packages (from langchain) (2.32.3)\n",
      "Requirement already satisfied: PyYAML>=5.3 in c:\\users\\mac\\.conda\\envs\\venv_lmm\\lib\\site-packages (from langchain) (6.0.2)\n",
      "Requirement already satisfied: aiohttp<4.0.0,>=3.8.3 in c:\\users\\mac\\.conda\\envs\\venv_lmm\\lib\\site-packages (from langchain_community) (3.11.14)\n",
      "Requirement already satisfied: tenacity!=8.4.0,<10,>=8.1.0 in c:\\users\\mac\\.conda\\envs\\venv_lmm\\lib\\site-packages (from langchain_community) (9.0.0)\n",
      "Requirement already satisfied: dataclasses-json<0.7,>=0.5.7 in c:\\users\\mac\\.conda\\envs\\venv_lmm\\lib\\site-packages (from langchain_community) (0.6.7)\n",
      "Requirement already satisfied: pydantic-settings<3.0.0,>=2.4.0 in c:\\users\\mac\\.conda\\envs\\venv_lmm\\lib\\site-packages (from langchain_community) (2.8.1)\n",
      "Requirement already satisfied: httpx-sse<1.0.0,>=0.4.0 in c:\\users\\mac\\.conda\\envs\\venv_lmm\\lib\\site-packages (from langchain_community) (0.4.0)\n",
      "Requirement already satisfied: numpy<3,>=1.26.2 in c:\\users\\mac\\.conda\\envs\\venv_lmm\\lib\\site-packages (from langchain_community) (1.26.4)\n",
      "Requirement already satisfied: openai<2.0.0,>=1.58.1 in c:\\users\\mac\\.conda\\envs\\venv_lmm\\lib\\site-packages (from langchain_openai) (1.75.0)\n",
      "Requirement already satisfied: tiktoken<1,>=0.7 in c:\\users\\mac\\.conda\\envs\\venv_lmm\\lib\\site-packages (from langchain_openai) (0.9.0)\n",
      "Requirement already satisfied: aiohappyeyeballs>=2.3.0 in c:\\users\\mac\\.conda\\envs\\venv_lmm\\lib\\site-packages (from aiohttp<4.0.0,>=3.8.3->langchain_community) (2.6.1)\n",
      "Requirement already satisfied: aiosignal>=1.1.2 in c:\\users\\mac\\.conda\\envs\\venv_lmm\\lib\\site-packages (from aiohttp<4.0.0,>=3.8.3->langchain_community) (1.3.2)\n",
      "Requirement already satisfied: attrs>=17.3.0 in c:\\users\\mac\\.conda\\envs\\venv_lmm\\lib\\site-packages (from aiohttp<4.0.0,>=3.8.3->langchain_community) (25.3.0)\n",
      "Requirement already satisfied: frozenlist>=1.1.1 in c:\\users\\mac\\.conda\\envs\\venv_lmm\\lib\\site-packages (from aiohttp<4.0.0,>=3.8.3->langchain_community) (1.5.0)\n",
      "Requirement already satisfied: multidict<7.0,>=4.5 in c:\\users\\mac\\.conda\\envs\\venv_lmm\\lib\\site-packages (from aiohttp<4.0.0,>=3.8.3->langchain_community) (6.2.0)\n",
      "Requirement already satisfied: propcache>=0.2.0 in c:\\users\\mac\\.conda\\envs\\venv_lmm\\lib\\site-packages (from aiohttp<4.0.0,>=3.8.3->langchain_community) (0.3.1)\n",
      "Requirement already satisfied: yarl<2.0,>=1.17.0 in c:\\users\\mac\\.conda\\envs\\venv_lmm\\lib\\site-packages (from aiohttp<4.0.0,>=3.8.3->langchain_community) (1.18.3)\n",
      "Requirement already satisfied: marshmallow<4.0.0,>=3.18.0 in c:\\users\\mac\\.conda\\envs\\venv_lmm\\lib\\site-packages (from dataclasses-json<0.7,>=0.5.7->langchain_community) (3.26.1)\n",
      "Requirement already satisfied: typing-inspect<1,>=0.4.0 in c:\\users\\mac\\.conda\\envs\\venv_lmm\\lib\\site-packages (from dataclasses-json<0.7,>=0.5.7->langchain_community) (0.9.0)\n",
      "Requirement already satisfied: jsonpatch<2.0,>=1.33 in c:\\users\\mac\\.conda\\envs\\venv_lmm\\lib\\site-packages (from langchain-core<1.0.0,>=0.3.45->langchain) (1.33)\n",
      "Requirement already satisfied: packaging<25,>=23.2 in c:\\users\\mac\\.conda\\envs\\venv_lmm\\lib\\site-packages (from langchain-core<1.0.0,>=0.3.45->langchain) (24.2)\n",
      "Requirement already satisfied: typing-extensions>=4.7 in c:\\users\\mac\\.conda\\envs\\venv_lmm\\lib\\site-packages (from langchain-core<1.0.0,>=0.3.45->langchain) (4.12.2)\n",
      "Requirement already satisfied: httpx<1,>=0.23.0 in c:\\users\\mac\\.conda\\envs\\venv_lmm\\lib\\site-packages (from langsmith<0.4,>=0.1.17->langchain) (0.27.2)\n",
      "Requirement already satisfied: orjson<4.0.0,>=3.9.14 in c:\\users\\mac\\.conda\\envs\\venv_lmm\\lib\\site-packages (from langsmith<0.4,>=0.1.17->langchain) (3.10.16)\n",
      "Requirement already satisfied: requests-toolbelt<2.0.0,>=1.0.0 in c:\\users\\mac\\.conda\\envs\\venv_lmm\\lib\\site-packages (from langsmith<0.4,>=0.1.17->langchain) (1.0.0)\n",
      "Requirement already satisfied: zstandard<0.24.0,>=0.23.0 in c:\\users\\mac\\.conda\\envs\\venv_lmm\\lib\\site-packages (from langsmith<0.4,>=0.1.17->langchain) (0.23.0)\n",
      "Requirement already satisfied: anyio<5,>=3.5.0 in c:\\users\\mac\\.conda\\envs\\venv_lmm\\lib\\site-packages (from openai<2.0.0,>=1.58.1->langchain_openai) (4.9.0)\n",
      "Requirement already satisfied: distro<2,>=1.7.0 in c:\\users\\mac\\.conda\\envs\\venv_lmm\\lib\\site-packages (from openai<2.0.0,>=1.58.1->langchain_openai) (1.9.0)\n",
      "Requirement already satisfied: jiter<1,>=0.4.0 in c:\\users\\mac\\.conda\\envs\\venv_lmm\\lib\\site-packages (from openai<2.0.0,>=1.58.1->langchain_openai) (0.9.0)\n",
      "Requirement already satisfied: sniffio in c:\\users\\mac\\.conda\\envs\\venv_lmm\\lib\\site-packages (from openai<2.0.0,>=1.58.1->langchain_openai) (1.3.1)\n",
      "Requirement already satisfied: tqdm>4 in c:\\users\\mac\\.conda\\envs\\venv_lmm\\lib\\site-packages (from openai<2.0.0,>=1.58.1->langchain_openai) (4.67.1)\n",
      "Requirement already satisfied: annotated-types>=0.6.0 in c:\\users\\mac\\.conda\\envs\\venv_lmm\\lib\\site-packages (from pydantic<3.0.0,>=2.7.4->langchain) (0.7.0)\n",
      "Requirement already satisfied: pydantic-core==2.27.2 in c:\\users\\mac\\.conda\\envs\\venv_lmm\\lib\\site-packages (from pydantic<3.0.0,>=2.7.4->langchain) (2.27.2)\n",
      "Requirement already satisfied: python-dotenv>=0.21.0 in c:\\users\\mac\\.conda\\envs\\venv_lmm\\lib\\site-packages (from pydantic-settings<3.0.0,>=2.4.0->langchain_community) (1.1.0)\n",
      "Requirement already satisfied: charset-normalizer<4,>=2 in c:\\users\\mac\\.conda\\envs\\venv_lmm\\lib\\site-packages (from requests<3,>=2->langchain) (3.4.1)\n",
      "Requirement already satisfied: idna<4,>=2.5 in c:\\users\\mac\\.conda\\envs\\venv_lmm\\lib\\site-packages (from requests<3,>=2->langchain) (3.10)\n",
      "Requirement already satisfied: urllib3<3,>=1.21.1 in c:\\users\\mac\\.conda\\envs\\venv_lmm\\lib\\site-packages (from requests<3,>=2->langchain) (2.3.0)\n",
      "Requirement already satisfied: certifi>=2017.4.17 in c:\\users\\mac\\.conda\\envs\\venv_lmm\\lib\\site-packages (from requests<3,>=2->langchain) (2025.1.31)\n",
      "Requirement already satisfied: greenlet>=1 in c:\\users\\mac\\.conda\\envs\\venv_lmm\\lib\\site-packages (from SQLAlchemy<3,>=1.4->langchain) (3.1.1)\n",
      "Requirement already satisfied: regex>=2022.1.18 in c:\\users\\mac\\.conda\\envs\\venv_lmm\\lib\\site-packages (from tiktoken<1,>=0.7->langchain_openai) (2024.11.6)\n",
      "Requirement already satisfied: httpcore==1.* in c:\\users\\mac\\.conda\\envs\\venv_lmm\\lib\\site-packages (from httpx<1,>=0.23.0->langsmith<0.4,>=0.1.17->langchain) (1.0.7)\n",
      "Requirement already satisfied: h11<0.15,>=0.13 in c:\\users\\mac\\.conda\\envs\\venv_lmm\\lib\\site-packages (from httpcore==1.*->httpx<1,>=0.23.0->langsmith<0.4,>=0.1.17->langchain) (0.14.0)\n",
      "Requirement already satisfied: jsonpointer>=1.9 in c:\\users\\mac\\.conda\\envs\\venv_lmm\\lib\\site-packages (from jsonpatch<2.0,>=1.33->langchain-core<1.0.0,>=0.3.45->langchain) (3.0.0)\n",
      "Requirement already satisfied: colorama in c:\\users\\mac\\.conda\\envs\\venv_lmm\\lib\\site-packages (from tqdm>4->openai<2.0.0,>=1.58.1->langchain_openai) (0.4.6)\n",
      "Requirement already satisfied: mypy-extensions>=0.3.0 in c:\\users\\mac\\.conda\\envs\\venv_lmm\\lib\\site-packages (from typing-inspect<1,>=0.4.0->dataclasses-json<0.7,>=0.5.7->langchain_community) (1.0.0)\n"
     ]
    }
   ],
   "source": [
    "!pip install langchain langchain_community langchain_openai\n"
   ]
  },
  {
   "cell_type": "code",
   "execution_count": null,
   "metadata": {
    "executionInfo": {
     "elapsed": 807,
     "status": "ok",
     "timestamp": 1745736827461,
     "user": {
      "displayName": "Taewook Kang",
      "userId": "11578752810222612195"
     },
     "user_tz": -540
    },
    "id": "5cM8Fd1ZApIC"
   },
   "outputs": [],
   "source": [
    "from google.colab import userdata\n",
    "key = userdata.get('openai-api')\n"
   ]
  },
  {
   "cell_type": "code",
   "execution_count": 2,
   "metadata": {
    "executionInfo": {
     "elapsed": 8,
     "status": "ok",
     "timestamp": 1745737570366,
     "user": {
      "displayName": "Taewook Kang",
      "userId": "11578752810222612195"
     },
     "user_tz": -540
    },
    "id": "yoRg8of4AtFf"
   },
   "outputs": [],
   "source": [
    "import json\n",
    "from langchain.chat_models import ChatOpenAI\n",
    "from langchain.prompts import ChatPromptTemplate\n",
    "from langchain.chains import LLMChain\n"
   ]
  },
  {
   "cell_type": "code",
   "execution_count": 8,
   "metadata": {
    "colab": {
     "base_uri": "https://localhost:8080/"
    },
    "executionInfo": {
     "elapsed": 2818,
     "status": "ok",
     "timestamp": 1745737713402,
     "user": {
      "displayName": "Taewook Kang",
      "userId": "11578752810222612195"
     },
     "user_tz": -540
    },
    "id": "iuBCMn8oDdAM",
    "outputId": "618029fb-8a61-4eb5-9891-5966e63ed18e"
   },
   "outputs": [],
   "source": [
    "# Step 1: ChatOpenAI 모델 초기화\n",
    "llm = ChatOpenAI(temperature=0, openai_api_key=key)\n",
    "\n",
    "# Step 2: JSON 형식 출력 템플릿 정의\n",
    "json_prompt_template = \"\"\"\n",
    "Please provide the following details about {topic} in JSON format:\n",
    "- Summary: A brief description of {topic}.\n",
    "- Key Features: A list of important features of {topic}.\n",
    "- Use Cases: A list of common use cases for {topic}.\n",
    "- Related Technologies: A list of technologies related to {topic}.\n",
    "\"\"\"\n",
    "\n",
    "# ChatPromptTemplate 생성\n",
    "json_prompt = ChatPromptTemplate.from_template(json_prompt_template)\n",
    "\n",
    "# Step 3: 템플릿에 값 전달 (예: LLM)\n",
    "formatted_prompt = json_prompt.format(topic=\"LLM\")\n",
    "\n",
    "# Step 4: LLMChain 생성\n",
    "llm_chain = LLMChain(llm=llm, prompt=json_prompt)\n",
    "\n",
    "# Step 5: LLMChain 실행\n",
    "response = llm_chain.run(formatted_prompt)\n"
   ]
  },
  {
   "cell_type": "code",
   "execution_count": 9,
   "metadata": {},
   "outputs": [
    {
     "name": "stdout",
     "output_type": "stream",
     "text": [
      "response: {\n",
      "  \"Human\": {\n",
      "    \"Summary\": \"Humans are a species of intelligent primates that are capable of complex reasoning, language, and social interactions.\",\n",
      "    \"Key Features\": [\n",
      "      \"Highly developed cognitive abilities\",\n",
      "      \"Ability to communicate through language\",\n",
      "      \"Complex social structures\",\n",
      "      \"Varied cultural practices\"\n",
      "    ],\n",
      "    \"Use Cases\": [\n",
      "      \"Problem-solving\",\n",
      "      \"Communication\",\n",
      "      \"Collaboration\",\n",
      "      \"Creative expression\"\n",
      "    ],\n",
      "    \"Related Technologies\": [\n",
      "      \"Artificial Intelligence\",\n",
      "      \"Robotics\",\n",
      "      \"Neuroscience\",\n",
      "      \"Anthropology\"\n",
      "    ]\n",
      "  },\n",
      "  \"LLM\": {\n",
      "    \"Summary\": \"LLM stands for Large Language Model, which is a type of artificial intelligence model that is trained on vast amounts of text data to generate human-like text.\",\n",
      "    \"Key Features\": [\n",
      "      \"Natural language processing\",\n",
      "      \"Text generation\",\n",
      "      \"Contextual understanding\",\n",
      "      \"Language translation\"\n",
      "    ],\n",
      "    \"Use Cases\": [\n",
      "      \"Content generation\",\n",
      "      \"Language translation\",\n",
      "      \"Chatbots\",\n",
      "      \"Text summarization\"\n",
      "    ],\n",
      "    \"Related Technologies\": [\n",
      "      \"Machine Learning\",\n",
      "      \"Deep Learning\",\n",
      "      \"Natural Language Processing (NLP)\",\n",
      "      \"Recurrent Neural Networks (RNN)\"\n",
      "    ]\n",
      "  }\n",
      "}\n"
     ]
    }
   ],
   "source": [
    "print(f'response: {response}')\n"
   ]
  },
  {
   "cell_type": "code",
   "execution_count": null,
   "metadata": {
    "executionInfo": {
     "elapsed": 40,
     "status": "ok",
     "timestamp": 1745737728335,
     "user": {
      "displayName": "Taewook Kang",
      "userId": "11578752810222612195"
     },
     "user_tz": -540
    },
    "id": "4LiSGIzXAtPD"
   },
   "outputs": [
    {
     "name": "stdout",
     "output_type": "stream",
     "text": [
      "Parsed JSON Output:\n",
      "{\n",
      "    \"Human\": {\n",
      "        \"Summary\": \"Humans are a species of intelligent primates that are capable of complex reasoning, language, and social interactions.\",\n",
      "        \"Key Features\": [\n",
      "            \"Highly developed cognitive abilities\",\n",
      "            \"Ability to communicate through language\",\n",
      "            \"Complex social structures\",\n",
      "            \"Varied cultural practices\"\n",
      "        ],\n",
      "        \"Use Cases\": [\n",
      "            \"Problem-solving\",\n",
      "            \"Communication\",\n",
      "            \"Collaboration\",\n",
      "            \"Creative expression\"\n",
      "        ],\n",
      "        \"Related Technologies\": [\n",
      "            \"Artificial Intelligence\",\n",
      "            \"Robotics\",\n",
      "            \"Neuroscience\",\n",
      "            \"Anthropology\"\n",
      "        ]\n",
      "    },\n",
      "    \"LLM\": {\n",
      "        \"Summary\": \"LLM stands for Large Language Model, which is a type of artificial intelligence model that is trained on vast amounts of text data to generate human-like text.\",\n",
      "        \"Key Features\": [\n",
      "            \"Natural language processing\",\n",
      "            \"Text generation\",\n",
      "            \"Contextual understanding\",\n",
      "            \"Language translation\"\n",
      "        ],\n",
      "        \"Use Cases\": [\n",
      "            \"Content generation\",\n",
      "            \"Language translation\",\n",
      "            \"Chatbots\",\n",
      "            \"Text summarization\"\n",
      "        ],\n",
      "        \"Related Technologies\": [\n",
      "            \"Machine Learning\",\n",
      "            \"Deep Learning\",\n",
      "            \"Natural Language Processing (NLP)\",\n",
      "            \"Recurrent Neural Networks (RNN)\"\n",
      "        ]\n",
      "    }\n",
      "}\n"
     ]
    }
   ],
   "source": [
    "# Step 6: JSON 형식으로 출력된 결과를 파싱\n",
    "try:\n",
    "    parsed_response = json.loads(response)  # 모델의 출력을 JSON으로 파싱\n",
    "    print(\"Parsed JSON Output:\")\n",
    "    print(json.dumps(parsed_response, indent=4))\n",
    "except json.JSONDecodeError as e:\n",
    "    print(f\"Error decoding JSON: {e}\")\n",
    "    print(\"Raw response:\", response)"
   ]
  },
  {
   "cell_type": "code",
   "execution_count": 15,
   "metadata": {
    "id": "ew4C38IcE8RY"
   },
   "outputs": [
    {
     "name": "stdout",
     "output_type": "stream",
     "text": [
      "Summary of the response:\n"
     ]
    }
   ],
   "source": [
    "# 요약을 위한 프롬프트 생성\n",
    "summary_prompt_template = \"\"\"\n",
    "Please summarize the following JSON response in human-readable format:\n",
    "{response}\n",
    "\"\"\"\n",
    "\n",
    "# 요약 출력\n",
    "summary_prompt = ChatPromptTemplate.from_template(summary_prompt_template)\n",
    "formatted_prompt = summary_prompt.format(response=json.dumps(parsed_response['LLM']))\n",
    "llm_chain = LLMChain(llm=llm, prompt=json_prompt)\n",
    "print(\"Summary of the response:\")\n"
   ]
  },
  {
   "cell_type": "code",
   "execution_count": 16,
   "metadata": {},
   "outputs": [
    {
     "name": "stdout",
     "output_type": "stream",
     "text": [
      "- Summary: \n",
      "LLM stands for Large Language Model, which is an artificial intelligence model trained on text data to generate human-like text.\n",
      "\n",
      "- Key Features: \n",
      "Important features of LLM include natural language processing, text generation, contextual understanding, and language translation.\n",
      "\n",
      "- Use Cases: \n",
      "Common use cases for LLM are content generation, language translation, chatbots, and text summarization.\n",
      "\n",
      "- Related Technologies: \n",
      "Technologies related to LLM include Machine Learning, Deep Learning, Natural Language Processing (NLP), and Recurrent Neural Networks (RNN).\n"
     ]
    }
   ],
   "source": [
    "summary_response = llm_chain.run(formatted_prompt)\n",
    "print(summary_response)"
   ]
  },
  {
   "cell_type": "code",
   "execution_count": null,
   "metadata": {},
   "outputs": [],
   "source": []
  }
 ],
 "metadata": {
  "accelerator": "GPU",
  "colab": {
   "authorship_tag": "ABX9TyOXKu59KiZGTj+nqOFQJADw",
   "gpuType": "T4",
   "provenance": []
  },
  "kernelspec": {
   "display_name": "venv_lmm",
   "language": "python",
   "name": "python3"
  },
  "language_info": {
   "codemirror_mode": {
    "name": "ipython",
    "version": 3
   },
   "file_extension": ".py",
   "mimetype": "text/x-python",
   "name": "python",
   "nbconvert_exporter": "python",
   "pygments_lexer": "ipython3",
   "version": "3.12.9"
  }
 },
 "nbformat": 4,
 "nbformat_minor": 0
}
