{
 "cells": [
  {
   "cell_type": "markdown",
   "metadata": {},
   "source": [
    "Graph"
   ]
  },
  {
   "cell_type": "code",
   "execution_count": 2,
   "metadata": {},
   "outputs": [
    {
     "name": "stdout",
     "output_type": "stream",
     "text": [
      "GPU available: True\n",
      "Output z: -0.756802499294281\n",
      "Gradient of z with respect to x: -2.614574432373047\n"
     ]
    }
   ],
   "source": [
    "import torch \n",
    "print('GPU available:', torch.cuda.is_available())\n",
    "\n",
    "# Forward pass\n",
    "x = torch.tensor(2.0, requires_grad=True) # requires_grad=True allows tracking of operations on this tensor\n",
    "y = x ** 2 \n",
    "z = torch.sin(y)\n",
    "print(f\"Output z: {z.item()}\") \n",
    "\n",
    "# Backward pass\n",
    "z.backward() # dz/dx=dz/du*du/dx\n",
    "print(f\"Gradient of z with respect to x: {x.grad.item()}\") # Gradient. 2*x*cos(x^2)"
   ]
  },
  {
   "cell_type": "markdown",
   "metadata": {},
   "source": [
    "Shape"
   ]
  },
  {
   "cell_type": "code",
   "execution_count": 2,
   "metadata": {},
   "outputs": [
    {
     "name": "stdout",
     "output_type": "stream",
     "text": [
      "tf.Tensor(\n",
      "[[-0.5755069  -1.7246705   0.5698334 ]\n",
      " [-1.2045128  -0.14158128 -0.7437579 ]], shape=(2, 3), dtype=float32)\n",
      "tf.Tensor(\n",
      "[[-0.00790841 -0.25614816 -0.9186853 ]\n",
      " [-0.7668161  -1.3055285   0.22155765]], shape=(2, 3), dtype=float32)\n",
      "(2, 3)\n",
      "tf.Tensor(\n",
      "[[-0.5834153  -1.9808187  -0.34885192]\n",
      " [-1.971329   -1.4471098  -0.5222002 ]], shape=(2, 3), dtype=float32)\n"
     ]
    }
   ],
   "source": [
    "import tensorflow as tf\n",
    "\n",
    "input_shape = (2, 3)\n",
    "x1 = tf.random.normal(input_shape, mean=0.0, stddev=1.0)\n",
    "x2 = tf.random.normal(input_shape)\n",
    "y = tf.keras.layers.Add()([x1, x2])\n",
    "\n",
    "print(x1)\n",
    "print(x2)\n",
    "print(y.shape)\n",
    "print(y)\n"
   ]
  },
  {
   "cell_type": "code",
   "execution_count": 6,
   "metadata": {},
   "outputs": [
    {
     "name": "stdout",
     "output_type": "stream",
     "text": [
      "(None, 3, 4)\n",
      "(None, 3, 2, 2)\n"
     ]
    },
    {
     "name": "stderr",
     "output_type": "stream",
     "text": [
      "c:\\Users\\MAC\\.conda\\envs\\venv_lmm\\Lib\\site-packages\\keras\\src\\layers\\reshaping\\reshape.py:39: UserWarning: Do not pass an `input_shape`/`input_dim` argument to a layer. When using Sequential models, prefer using an `Input(shape)` object as the first layer in the model instead.\n",
      "  super().__init__(**kwargs)\n"
     ]
    }
   ],
   "source": [
    "model = tf.keras.Sequential()\n",
    "rs = tf.keras.layers.Reshape((3, 4), input_shape=(12,))\n",
    "model.add(rs)\n",
    "s = model.output_shape  # (None, 3, 4). # (mini batch size, 3, 4)\n",
    "print(s)\n",
    "model.add(tf.keras.layers.Reshape((-1, 2, 2)))   # (None, 3, 2, 2)\n",
    "s = model.output_shape  # (None, 3, 4)\n",
    "print(s)"
   ]
  },
  {
   "cell_type": "markdown",
   "metadata": {},
   "source": [
    "PyTorch shape"
   ]
  },
  {
   "cell_type": "code",
   "execution_count": null,
   "metadata": {},
   "outputs": [
    {
     "name": "stdout",
     "output_type": "stream",
     "text": [
      "GPU available: True\n",
      "reshape\n",
      "torch.Size([2, 3, 4])\n",
      "tensor([[[ 0,  1,  2,  3],\n",
      "         [ 4,  5,  6,  7],\n",
      "         [ 8,  9, 10, 11]],\n",
      "\n",
      "        [[12, 13, 14, 15],\n",
      "         [16, 17, 18, 19],\n",
      "         [20, 21, 22, 23]]])\n",
      "torch.Size([2, 12])\n",
      "tensor([[ 0,  1,  2,  3,  4,  5,  6,  7,  8,  9, 10, 11],\n",
      "        [12, 13, 14, 15, 16, 17, 18, 19, 20, 21, 22, 23]])\n",
      "unsqueeze= torch.Size([1, 2, 12])\n",
      "tensor([[[ 0,  1,  2,  3,  4,  5,  6,  7,  8,  9, 10, 11],\n",
      "         [12, 13, 14, 15, 16, 17, 18, 19, 20, 21, 22, 23]]])\n",
      "squeeze= torch.Size([2, 12])\n",
      "tensor([[ 0,  1,  2,  3,  4,  5,  6,  7,  8,  9, 10, 11],\n",
      "        [12, 13, 14, 15, 16, 17, 18, 19, 20, 21, 22, 23]])\n"
     ]
    }
   ],
   "source": [
    "print('reshape')\n",
    "x = torch.arange(24).reshape(2, 3, 4) # torch.rand(2, 3, 4)  # [2, 3, 4] \n",
    "s = x.shape\n",
    "print(s)\n",
    "print(x)\n",
    "y = x.view(2, -1)  # [2, 12] \n",
    "print(y.shape)\n",
    "print(y)\n",
    "z = y.unsqueeze(0) # [1, 2, 12]\n",
    "print('unsqueeze=', z.shape)\n",
    "print(z)\n",
    "z = z.squeeze(0) # [2, 12]\n",
    "print('squeeze=', z.shape)\n",
    "print(z)"
   ]
  },
  {
   "cell_type": "code",
   "execution_count": 7,
   "metadata": {},
   "outputs": [
    {
     "name": "stdout",
     "output_type": "stream",
     "text": [
      "\n",
      "permute\n",
      "torch.Size([1, 5])\n",
      "tensor([[0, 1, 2, 3, 4]])\n",
      "transpose= torch.Size([5, 1])\n",
      "tensor([[0],\n",
      "        [1],\n",
      "        [2],\n",
      "        [3],\n",
      "        [4]])\n",
      "permute= torch.Size([5, 1])\n",
      "tensor([[0],\n",
      "        [1],\n",
      "        [2],\n",
      "        [3],\n",
      "        [4]])\n",
      "torch.Size([3, 32, 32])\n",
      "torch.Size([32, 32, 3])\n"
     ]
    }
   ],
   "source": [
    "print('\\npermute')\n",
    "x = torch.arange(0, 5).reshape(1, 5)\n",
    "print(x.shape)\n",
    "print(x)\n",
    "y = x.transpose(0, 1)  # [5, 1].\n",
    "print('transpose=', y.shape)\n",
    "print(y)\n",
    "z = x.permute(1, 0)  # [5, 1]. \n",
    "print('permute=', z.shape)\n",
    "print(z)\n",
    "\n",
    "x = torch.arange(0, 3 * 32 * 32).reshape(3, 32, 32) # (3, 32, 32) > permute(2, 1, 0) > (32, 32, 3)\n",
    "print(x.shape)\n",
    "z = x.permute(2, 1, 0)\n",
    "print(z.shape)"
   ]
  }
 ],
 "metadata": {
  "kernelspec": {
   "display_name": "venv_lmm",
   "language": "python",
   "name": "python3"
  },
  "language_info": {
   "codemirror_mode": {
    "name": "ipython",
    "version": 3
   },
   "file_extension": ".py",
   "mimetype": "text/x-python",
   "name": "python",
   "nbconvert_exporter": "python",
   "pygments_lexer": "ipython3",
   "version": "3.12.11"
  },
  "orig_nbformat": 4
 },
 "nbformat": 4,
 "nbformat_minor": 2
}
