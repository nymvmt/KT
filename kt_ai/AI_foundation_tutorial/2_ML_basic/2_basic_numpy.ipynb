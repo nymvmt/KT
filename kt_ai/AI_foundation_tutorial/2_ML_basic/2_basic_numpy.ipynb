{
 "cells": [
  {
   "cell_type": "markdown",
   "metadata": {},
   "source": [
    "<h3>Python data structure for DL</h3>"
   ]
  },
  {
   "cell_type": "code",
   "execution_count": 2,
   "metadata": {},
   "outputs": [
    {
     "name": "stdout",
     "output_type": "stream",
     "text": [
      "{1, 2, 3}\n",
      "{'o', 'e', 'l', 'H'}\n",
      "{4, 5, 6}\n"
     ]
    }
   ],
   "source": [
    "# list. mutable\n",
    "list1=[1,4,\"star\",6,\"wars\"]\n",
    "list2=[]  \n",
    "list3=list((1,2,3))\n",
    "\n",
    "# tuple. ordered collection of data. immutable\n",
    "tuple1=(1,2,\"apple\",9)\n",
    "tuple2=() \n",
    "tuple3=tuple((1,3,5,9,\"sky\"))\n",
    "\n",
    "# dictionary\n",
    "dict1={\"key1\":\"city\",\"key2\":\"pop\"}\n",
    "dict2={}   \n",
    "dict3=dict({1:\"city\",2:\"pop\",3:\"orange\"})\n",
    "\n",
    "# set\n",
    "s1 = set([1,2,3])\n",
    "print(s1)\n",
    "\n",
    "s2 = set(\"Hello\")\n",
    "print(s2)\n",
    "\n",
    "s1 = set([1, 2, 3, 4, 5, 6])\n",
    "s2 = set([4, 5, 6, 7, 8, 9])\n",
    "s3 = s1.intersection(s2)\n",
    "print(s3)"
   ]
  },
  {
   "cell_type": "markdown",
   "metadata": {},
   "source": [
    "<h3>Numpy</h3>\n",
    "https://numpy.org/doc/stable/user/basics.indexing.html"
   ]
  },
  {
   "cell_type": "code",
   "execution_count": 58,
   "metadata": {},
   "outputs": [
    {
     "name": "stdout",
     "output_type": "stream",
     "text": [
      "[ 0  1  2  3  4  5  6  7  8  9 10 11]\n",
      "2 , 10\n",
      "[[ 0  1  2]\n",
      " [ 3  4  5]\n",
      " [ 6  7  8]\n",
      " [ 9 10 11]]\n",
      "[[ 1  2]\n",
      " [ 4  5]\n",
      " [ 7  8]\n",
      " [10 11]]\n",
      "9\n",
      "[[ 0  2]\n",
      " [ 3  5]\n",
      " [ 6  8]\n",
      " [ 9 11]]\n"
     ]
    }
   ],
   "source": [
    "import numpy as np\n",
    "\n",
    "# data structure & shape\n",
    "x = np.arange(12)\n",
    "print(x)\n",
    "print(x[2], ',', x[-2])\n",
    "\n",
    "x = x.reshape(4, 3)\n",
    "print(x)\n",
    "\n",
    "# slicing\n",
    "print(x[:, 1:])\n",
    "print(x[-1, -3])\n",
    "print(x[:, ::2])  # start:end:step\n"
   ]
  },
  {
   "cell_type": "code",
   "execution_count": 59,
   "metadata": {},
   "outputs": [
    {
     "name": "stdout",
     "output_type": "stream",
     "text": [
      "[[ 0  1  2]\n",
      " [ 3  4  5]\n",
      " [ 6  7  8]\n",
      " [ 9 10 11]]\n",
      "5\n",
      "[ 7  8  9 10 11]\n",
      "[1 5]\n",
      "[10  8]\n",
      "[[ 0  3  6  9]\n",
      " [ 1  4  7 10]\n",
      " [ 2  5  8 11]]\n"
     ]
    }
   ],
   "source": [
    "print(x)\n",
    "print(x[1,2])\n",
    "print(x[x>6])\n",
    "print(x[[0,1], [1,2]])  # row = [0,1], col = [1,2]. \n",
    "print(x[[3,2], [1,2]])  # x[3,1], x[2,2]\n",
    "print(x.T)\n"
   ]
  },
  {
   "cell_type": "code",
   "execution_count": 60,
   "metadata": {},
   "outputs": [
    {
     "name": "stdout",
     "output_type": "stream",
     "text": [
      "[[ 0  1  2]\n",
      " [ 3  4  5]\n",
      " [ 6  7  8]\n",
      " [ 9 10 11]]\n",
      "[4.5 5.5 6.5]\n",
      "[ 1.  4.  7. 10.]\n",
      "[[-4.5 -4.5 -4.5]\n",
      " [-1.5 -1.5 -1.5]\n",
      " [ 1.5  1.5  1.5]\n",
      " [ 4.5  4.5  4.5]]\n",
      "[[-0.  -4.5 -9. ]\n",
      " [-4.5 -6.  -7.5]\n",
      " [ 9.  10.5 12. ]\n",
      " [40.5 45.  49.5]]\n"
     ]
    }
   ],
   "source": [
    "# collapse. https://www.sharpsightlabs.com/blog/numpy-axes-explained/\n",
    "\n",
    "print(x)\n",
    "y = np.mean(x, axis=0)  # col mean with row collapse \n",
    "print(y)\n",
    "y = np.mean(x, axis=1)  # row mean with column collapse \n",
    "print(y)\n",
    "\n",
    "y = x - np.mean(x, axis=0)\n",
    "print(y)\n",
    "x = x * y\n",
    "print(x)"
   ]
  },
  {
   "cell_type": "code",
   "execution_count": 67,
   "metadata": {},
   "outputs": [
    {
     "name": "stdout",
     "output_type": "stream",
     "text": [
      "[[0 1 2]\n",
      " [3 4 5]]\n",
      "[[0 1]\n",
      " [2 3]\n",
      " [4 5]]\n"
     ]
    }
   ],
   "source": [
    "# multiple\n",
    "\n",
    "a = np.arange(6).reshape(2, 3)\n",
    "b = np.arange(6).reshape(3, 2)\n",
    "print(a)\n",
    "print(b)"
   ]
  },
  {
   "cell_type": "code",
   "execution_count": 68,
   "metadata": {},
   "outputs": [
    {
     "data": {
      "text/plain": [
       "array([[10, 13],\n",
       "       [28, 40]])"
      ]
     },
     "execution_count": 68,
     "metadata": {},
     "output_type": "execute_result"
    }
   ],
   "source": [
    "a@b\n",
    "np.dot(a, b)\n",
    "np.matmul(a, b)"
   ]
  },
  {
   "cell_type": "code",
   "execution_count": 72,
   "metadata": {},
   "outputs": [
    {
     "name": "stdout",
     "output_type": "stream",
     "text": [
      "[[[[  0   1   2   3   4]\n",
      "   [  5   6   7   8   9]\n",
      "   [ 10  11  12  13  14]\n",
      "   [ 15  16  17  18  19]]\n",
      "\n",
      "  [[ 20  21  22  23  24]\n",
      "   [ 25  26  27  28  29]\n",
      "   [ 30  31  32  33  34]\n",
      "   [ 35  36  37  38  39]]\n",
      "\n",
      "  [[ 40  41  42  43  44]\n",
      "   [ 45  46  47  48  49]\n",
      "   [ 50  51  52  53  54]\n",
      "   [ 55  56  57  58  59]]]\n",
      "\n",
      "\n",
      " [[[ 60  61  62  63  64]\n",
      "   [ 65  66  67  68  69]\n",
      "   [ 70  71  72  73  74]\n",
      "   [ 75  76  77  78  79]]\n",
      "\n",
      "  [[ 80  81  82  83  84]\n",
      "   [ 85  86  87  88  89]\n",
      "   [ 90  91  92  93  94]\n",
      "   [ 95  96  97  98  99]]\n",
      "\n",
      "  [[100 101 102 103 104]\n",
      "   [105 106 107 108 109]\n",
      "   [110 111 112 113 114]\n",
      "   [115 116 117 118 119]]]]\n",
      "(2, 3, 4, 5)\n"
     ]
    }
   ],
   "source": [
    "# shape and ellipsis\n",
    "a = np.arange(120).reshape(2, 3, 4, 5)\n",
    "\n",
    "print(a)\n",
    "print(a.shape)"
   ]
  },
  {
   "cell_type": "code",
   "execution_count": 73,
   "metadata": {},
   "outputs": [
    {
     "name": "stdout",
     "output_type": "stream",
     "text": [
      "[[[  0   5  10  15]\n",
      "  [ 20  25  30  35]\n",
      "  [ 40  45  50  55]]\n",
      "\n",
      " [[ 60  65  70  75]\n",
      "  [ 80  85  90  95]\n",
      "  [100 105 110 115]]]\n",
      "[[[  0   5  10  15]\n",
      "  [ 20  25  30  35]\n",
      "  [ 40  45  50  55]]\n",
      "\n",
      " [[ 60  65  70  75]\n",
      "  [ 80  85  90  95]\n",
      "  [100 105 110 115]]]\n",
      "[[[  0   5  10  15]\n",
      "  [ 20  25  30  35]\n",
      "  [ 40  45  50  55]]\n",
      "\n",
      " [[ 60  65  70  75]\n",
      "  [ 80  85  90  95]\n",
      "  [100 105 110 115]]]\n"
     ]
    }
   ],
   "source": [
    "print(a[:, :, :, 0])\n",
    "print(a[..., 0])\n",
    "print(a[Ellipsis, 0])"
   ]
  },
  {
   "cell_type": "code",
   "execution_count": 3,
   "metadata": {},
   "outputs": [
    {
     "data": {
      "image/png": "[encoded data removed]",
      "text/plain": [
       "<Figure size 640x480 with 1 Axes>"
      ]
     },
     "metadata": {},
     "output_type": "display_data"
    }
   ],
   "source": [
    "import pandas as pd\n",
    "import matplotlib.pyplot as plt\n",
    "   \n",
    "data = {'Unemployment_Rate': [6.1,5.8,5.7,5.7,5.8,5.6,5.5,5.3,5.2,5.2],\n",
    "        'Stock_Index_Price': [1500,1520,1525,1523,1515,1540,1545,1560,1555,1565]\n",
    "       }\n",
    "  \n",
    "df = pd.DataFrame(data,columns=['Unemployment_Rate','Stock_Index_Price'])\n",
    "df.plot(x ='Unemployment_Rate', y='Stock_Index_Price', kind = 'scatter')\n",
    "plt.show()"
   ]
  },
  {
   "cell_type": "code",
   "execution_count": null,
   "metadata": {},
   "outputs": [],
   "source": []
  }
 ],
 "metadata": {
  "kernelspec": {
   "display_name": "Python 3.9.12 ('venv_tf2': venv)",
   "language": "python",
   "name": "python3"
  },
  "language_info": {
   "codemirror_mode": {
    "name": "ipython",
    "version": 3
   },
   "file_extension": ".py",
   "mimetype": "text/x-python",
   "name": "python",
   "nbconvert_exporter": "python",
   "pygments_lexer": "ipython3",
   "version": "3.9.12"
  },
  "orig_nbformat": 4,
  "vscode": {
   "interpreter": {
    "hash": "37036070bb288437053500e32ff1f1ab8b12051cb9eaa765672148430c6401fd"
   }
  }
 },
 "nbformat": 4,
 "nbformat_minor": 2
}
